{
 "cells": [
  {
   "cell_type": "code",
   "execution_count": 1,
   "metadata": {},
   "outputs": [
    {
     "data": {
      "text/plain": [
       "'Connected: None@chinook.db'"
      ]
     },
     "execution_count": 1,
     "metadata": {},
     "output_type": "execute_result"
    }
   ],
   "source": [
    "%load_ext sql\n",
    "%sql sqlite:///chinook.db\n",
    "    "
   ]
  },
  {
   "cell_type": "markdown",
   "metadata": {},
   "source": [
    "# Задание 1\n",
    "\n",
    "Вывести 10 самых больших по размеру треков жанра ROCK и формата MPEG (исоп"
   ]
  },
  {
   "cell_type": "code",
   "execution_count": 8,
   "metadata": {},
   "outputs": [
    {
     "name": "stdout",
     "output_type": "stream",
     "text": [
      "Done.\n"
     ]
    },
    {
     "data": {
      "text/html": [
       "<table>\n",
       "    <tr>\n",
       "        <th>TrackId</th>\n",
       "        <th>Name</th>\n",
       "        <th>AlbumId</th>\n",
       "        <th>MediaTypeId</th>\n",
       "        <th>GenreId</th>\n",
       "        <th>Composer</th>\n",
       "        <th>Milliseconds</th>\n",
       "        <th>Bytes</th>\n",
       "        <th>UnitPrice</th>\n",
       "        <th>GenreId_1</th>\n",
       "        <th>Name_1</th>\n",
       "        <th>MediaTypeId_1</th>\n",
       "        <th>Name_2</th>\n",
       "    </tr>\n",
       "    <tr>\n",
       "        <td>1666</td>\n",
       "        <td>Dazed And Confused</td>\n",
       "        <td>137</td>\n",
       "        <td>1</td>\n",
       "        <td>1</td>\n",
       "        <td>Jimmy Page</td>\n",
       "        <td>1612329</td>\n",
       "        <td>52490554</td>\n",
       "        <td>0.99</td>\n",
       "        <td>1</td>\n",
       "        <td>Rock</td>\n",
       "        <td>1</td>\n",
       "        <td>MPEG audio file</td>\n",
       "    </tr>\n",
       "    <tr>\n",
       "        <td>620</td>\n",
       "        <td>Space Truckin&#x27;</td>\n",
       "        <td>50</td>\n",
       "        <td>1</td>\n",
       "        <td>1</td>\n",
       "        <td>Blackmore/Gillan/Glover/Lord/Paice</td>\n",
       "        <td>1196094</td>\n",
       "        <td>39267613</td>\n",
       "        <td>0.99</td>\n",
       "        <td>1</td>\n",
       "        <td>Rock</td>\n",
       "        <td>1</td>\n",
       "        <td>MPEG audio file</td>\n",
       "    </tr>\n",
       "    <tr>\n",
       "        <td>1581</td>\n",
       "        <td>Dazed And Confused</td>\n",
       "        <td>127</td>\n",
       "        <td>1</td>\n",
       "        <td>1</td>\n",
       "        <td>Jimmy Page/Led Zeppelin</td>\n",
       "        <td>1116734</td>\n",
       "        <td>36052247</td>\n",
       "        <td>0.99</td>\n",
       "        <td>1</td>\n",
       "        <td>Rock</td>\n",
       "        <td>1</td>\n",
       "        <td>MPEG audio file</td>\n",
       "    </tr>\n",
       "    <tr>\n",
       "        <td>2429</td>\n",
       "        <td>We&#x27;ve Got To Get Together/Jingo</td>\n",
       "        <td>198</td>\n",
       "        <td>1</td>\n",
       "        <td>1</td>\n",
       "        <td>None</td>\n",
       "        <td>1070027</td>\n",
       "        <td>34618222</td>\n",
       "        <td>0.99</td>\n",
       "        <td>1</td>\n",
       "        <td>Rock</td>\n",
       "        <td>1</td>\n",
       "        <td>MPEG audio file</td>\n",
       "    </tr>\n",
       "    <tr>\n",
       "        <td>2432</td>\n",
       "        <td>Funky Piano</td>\n",
       "        <td>198</td>\n",
       "        <td>1</td>\n",
       "        <td>1</td>\n",
       "        <td>None</td>\n",
       "        <td>934791</td>\n",
       "        <td>30200730</td>\n",
       "        <td>0.99</td>\n",
       "        <td>1</td>\n",
       "        <td>Rock</td>\n",
       "        <td>1</td>\n",
       "        <td>MPEG audio file</td>\n",
       "    </tr>\n",
       "    <tr>\n",
       "        <td>621</td>\n",
       "        <td>Going Down / Highway Star</td>\n",
       "        <td>50</td>\n",
       "        <td>1</td>\n",
       "        <td>1</td>\n",
       "        <td>Gillan/Glover/Lord/Nix - Blackmore/Paice</td>\n",
       "        <td>913658</td>\n",
       "        <td>29846063</td>\n",
       "        <td>0.99</td>\n",
       "        <td>1</td>\n",
       "        <td>Rock</td>\n",
       "        <td>1</td>\n",
       "        <td>MPEG audio file</td>\n",
       "    </tr>\n",
       "    <tr>\n",
       "        <td>2427</td>\n",
       "        <td>Santana Jam</td>\n",
       "        <td>197</td>\n",
       "        <td>1</td>\n",
       "        <td>1</td>\n",
       "        <td>Carlos Santana</td>\n",
       "        <td>882834</td>\n",
       "        <td>29207100</td>\n",
       "        <td>0.99</td>\n",
       "        <td>1</td>\n",
       "        <td>Rock</td>\n",
       "        <td>1</td>\n",
       "        <td>MPEG audio file</td>\n",
       "    </tr>\n",
       "    <tr>\n",
       "        <td>2565</td>\n",
       "        <td>The Sun Road</td>\n",
       "        <td>208</td>\n",
       "        <td>1</td>\n",
       "        <td>1</td>\n",
       "        <td>Terry Bozzio, Steve Stevens, Tony Levin</td>\n",
       "        <td>880640</td>\n",
       "        <td>29008407</td>\n",
       "        <td>0.99</td>\n",
       "        <td>1</td>\n",
       "        <td>Rock</td>\n",
       "        <td>1</td>\n",
       "        <td>MPEG audio file</td>\n",
       "    </tr>\n",
       "    <tr>\n",
       "        <td>1670</td>\n",
       "        <td>Whole Lotta Love</td>\n",
       "        <td>138</td>\n",
       "        <td>1</td>\n",
       "        <td>1</td>\n",
       "        <td>John Bonham/John Paul Jones/Robert Plant/Willie Dixon</td>\n",
       "        <td>863895</td>\n",
       "        <td>28191437</td>\n",
       "        <td>0.99</td>\n",
       "        <td>1</td>\n",
       "        <td>Rock</td>\n",
       "        <td>1</td>\n",
       "        <td>MPEG audio file</td>\n",
       "    </tr>\n",
       "    <tr>\n",
       "        <td>622</td>\n",
       "        <td>Mistreated (Alternate Version)</td>\n",
       "        <td>50</td>\n",
       "        <td>1</td>\n",
       "        <td>1</td>\n",
       "        <td>Blackmore/Coverdale</td>\n",
       "        <td>854700</td>\n",
       "        <td>27775442</td>\n",
       "        <td>0.99</td>\n",
       "        <td>1</td>\n",
       "        <td>Rock</td>\n",
       "        <td>1</td>\n",
       "        <td>MPEG audio file</td>\n",
       "    </tr>\n",
       "</table>"
      ],
      "text/plain": [
       "[(1666, 'Dazed And Confused', 137, 1, 1, 'Jimmy Page', 1612329, 52490554, 0.99, 1, 'Rock', 1, 'MPEG audio file'),\n",
       " (620, \"Space Truckin'\", 50, 1, 1, 'Blackmore/Gillan/Glover/Lord/Paice', 1196094, 39267613, 0.99, 1, 'Rock', 1, 'MPEG audio file'),\n",
       " (1581, 'Dazed And Confused', 127, 1, 1, 'Jimmy Page/Led Zeppelin', 1116734, 36052247, 0.99, 1, 'Rock', 1, 'MPEG audio file'),\n",
       " (2429, \"We've Got To Get Together/Jingo\", 198, 1, 1, None, 1070027, 34618222, 0.99, 1, 'Rock', 1, 'MPEG audio file'),\n",
       " (2432, 'Funky Piano', 198, 1, 1, None, 934791, 30200730, 0.99, 1, 'Rock', 1, 'MPEG audio file'),\n",
       " (621, 'Going Down / Highway Star', 50, 1, 1, 'Gillan/Glover/Lord/Nix - Blackmore/Paice', 913658, 29846063, 0.99, 1, 'Rock', 1, 'MPEG audio file'),\n",
       " (2427, 'Santana Jam', 197, 1, 1, 'Carlos Santana', 882834, 29207100, 0.99, 1, 'Rock', 1, 'MPEG audio file'),\n",
       " (2565, 'The Sun Road', 208, 1, 1, 'Terry Bozzio, Steve Stevens, Tony Levin', 880640, 29008407, 0.99, 1, 'Rock', 1, 'MPEG audio file'),\n",
       " (1670, 'Whole Lotta Love', 138, 1, 1, 'John Bonham/John Paul Jones/Robert Plant/Willie Dixon', 863895, 28191437, 0.99, 1, 'Rock', 1, 'MPEG audio file'),\n",
       " (622, 'Mistreated (Alternate Version)', 50, 1, 1, 'Blackmore/Coverdale', 854700, 27775442, 0.99, 1, 'Rock', 1, 'MPEG audio file')]"
      ]
     },
     "execution_count": 8,
     "metadata": {},
     "output_type": "execute_result"
    }
   ],
   "source": [
    "%%sql \n",
    "SELECT *\n",
    "FROM tracks\n",
    "INNER JOIN genres\n",
    "ON tracks.Genreid = genres.Genreid\n",
    "INNER JOIN media_types\n",
    "ON tracks.MediaTypeid = media_types.MediaTypeid\n",
    "WHERE (genres.name = 'Rock') AND (media_types.name = 'MPEG audio file')\n",
    "ORDER BY tracks.Bytes DESC\n",
    "LIMIT 10;"
   ]
  },
  {
   "cell_type": "markdown",
   "metadata": {},
   "source": [
    "## Задание 2\n",
    "Вывести названия всех групп, их песен и названия их альбомов для всех треков жанра Рок, приобретенные сотрудниками Microsoft."
   ]
  },
  {
   "cell_type": "code",
   "execution_count": 8,
   "metadata": {},
   "outputs": [
    {
     "name": "stdout",
     "output_type": "stream",
     "text": [
      "Done.\n"
     ]
    },
    {
     "data": {
      "text/html": [
       "<table>\n",
       "    <tr>\n",
       "        <th>Artist</th>\n",
       "        <th>Song</th>\n",
       "        <th>Album</th>\n",
       "    </tr>\n",
       "    <tr>\n",
       "        <td>Foo Fighters</td>\n",
       "        <td>No Way Back</td>\n",
       "        <td>In Your Honor [Disc 1]</td>\n",
       "    </tr>\n",
       "    <tr>\n",
       "        <td>Foo Fighters</td>\n",
       "        <td>Still</td>\n",
       "        <td>In Your Honor [Disc 2]</td>\n",
       "    </tr>\n",
       "    <tr>\n",
       "        <td>Foo Fighters</td>\n",
       "        <td>Razor</td>\n",
       "        <td>In Your Honor [Disc 2]</td>\n",
       "    </tr>\n",
       "    <tr>\n",
       "        <td>Foo Fighters</td>\n",
       "        <td>My Hero</td>\n",
       "        <td>The Colour And The Shape</td>\n",
       "    </tr>\n",
       "    <tr>\n",
       "        <td>Guns N&#x27; Roses</td>\n",
       "        <td>Double Talkin&#x27; Jive</td>\n",
       "        <td>Use Your Illusion I</td>\n",
       "    </tr>\n",
       "    <tr>\n",
       "        <td>Guns N&#x27; Roses</td>\n",
       "        <td>The Garden</td>\n",
       "        <td>Use Your Illusion I</td>\n",
       "    </tr>\n",
       "    <tr>\n",
       "        <td>Guns N&#x27; Roses</td>\n",
       "        <td>Don&#x27;t Damn Me</td>\n",
       "        <td>Use Your Illusion I</td>\n",
       "    </tr>\n",
       "    <tr>\n",
       "        <td>Guns N&#x27; Roses</td>\n",
       "        <td>Dead Horse</td>\n",
       "        <td>Use Your Illusion I</td>\n",
       "    </tr>\n",
       "</table>"
      ],
      "text/plain": [
       "[('Foo Fighters', 'No Way Back', 'In Your Honor [Disc 1]'),\n",
       " ('Foo Fighters', 'Still', 'In Your Honor [Disc 2]'),\n",
       " ('Foo Fighters', 'Razor', 'In Your Honor [Disc 2]'),\n",
       " ('Foo Fighters', 'My Hero', 'The Colour And The Shape'),\n",
       " (\"Guns N' Roses\", \"Double Talkin' Jive\", 'Use Your Illusion I'),\n",
       " (\"Guns N' Roses\", 'The Garden', 'Use Your Illusion I'),\n",
       " (\"Guns N' Roses\", \"Don't Damn Me\", 'Use Your Illusion I'),\n",
       " (\"Guns N' Roses\", 'Dead Horse', 'Use Your Illusion I')]"
      ]
     },
     "execution_count": 8,
     "metadata": {},
     "output_type": "execute_result"
    }
   ],
   "source": [
    "%%sql\n",
    "SELECT artists.name as 'Artist', tracks.Name as 'Song', albums.Title as 'Album'\n",
    "FROM artists\n",
    "INNER JOIN albums\n",
    "ON artists.Artistid = albums.Artistid\n",
    "INNER JOIN tracks\n",
    "ON albums.Albumid = tracks.Albumid\n",
    "INNER JOIN genres\n",
    "ON tracks.Genreid = genres.Genreid\n",
    "INNER JOIN invoice_items\n",
    "ON tracks.Trackid = invoice_items.Trackid\n",
    "INNER JOIN invoices\n",
    "ON invoice_items.Invoiceid = invoices.Invoiceid\n",
    "INNER JOIN customers\n",
    "ON invoices.Customerid = customers.Customerid\n",
    "WHERE (genres.Name = 'Rock') and (customers.Company = 'Microsoft Corporation')\n",
    "ORDER BY artists.name;"
   ]
  },
  {
   "cell_type": "markdown",
   "metadata": {},
   "source": [
    "## Задание 3\n",
    "Для каждого набора (жанр, тип медиа) вывести среднюю цену по стоимости трека и общее количество, причем вывести только те наборы, для которых все треку стоят больше 1,5$.\n"
   ]
  },
  {
   "cell_type": "code",
   "execution_count": 6,
   "metadata": {},
   "outputs": [
    {
     "name": "stdout",
     "output_type": "stream",
     "text": [
      "Done.\n"
     ]
    },
    {
     "data": {
      "text/html": [
       "<table>\n",
       "    <tr>\n",
       "        <th>Genre</th>\n",
       "        <th>MediaType</th>\n",
       "        <th>Average price</th>\n",
       "        <th>Number of tracks</th>\n",
       "    </tr>\n",
       "    <tr>\n",
       "        <td>Comedy</td>\n",
       "        <td>Protected MPEG-4 video file</td>\n",
       "        <td>1.9899999999999995</td>\n",
       "        <td>17</td>\n",
       "    </tr>\n",
       "    <tr>\n",
       "        <td>Drama</td>\n",
       "        <td>Protected MPEG-4 video file</td>\n",
       "        <td>1.9899999999999978</td>\n",
       "        <td>64</td>\n",
       "    </tr>\n",
       "    <tr>\n",
       "        <td>Sci Fi &amp; Fantasy</td>\n",
       "        <td>Protected MPEG-4 video file</td>\n",
       "        <td>1.9900000000000004</td>\n",
       "        <td>26</td>\n",
       "    </tr>\n",
       "    <tr>\n",
       "        <td>Science Fiction</td>\n",
       "        <td>Protected MPEG-4 video file</td>\n",
       "        <td>1.9899999999999995</td>\n",
       "        <td>13</td>\n",
       "    </tr>\n",
       "    <tr>\n",
       "        <td>TV Shows</td>\n",
       "        <td>Protected MPEG-4 video file</td>\n",
       "        <td>1.990000000000001</td>\n",
       "        <td>93</td>\n",
       "    </tr>\n",
       "</table>"
      ],
      "text/plain": [
       "[('Comedy', 'Protected MPEG-4 video file', 1.9899999999999995, 17),\n",
       " ('Drama', 'Protected MPEG-4 video file', 1.9899999999999978, 64),\n",
       " ('Sci Fi & Fantasy', 'Protected MPEG-4 video file', 1.9900000000000004, 26),\n",
       " ('Science Fiction', 'Protected MPEG-4 video file', 1.9899999999999995, 13),\n",
       " ('TV Shows', 'Protected MPEG-4 video file', 1.990000000000001, 93)]"
      ]
     },
     "execution_count": 6,
     "metadata": {},
     "output_type": "execute_result"
    }
   ],
   "source": [
    "%%sql\n",
    "SELECT genres.Name as 'Genre', media_types.Name as 'MediaType', AVG(tracks.UnitPrice) as 'Average price', count(tracks.TrackId) as 'Number of tracks'\n",
    "FROM genres, media_types\n",
    "LEFT JOIN tracks\n",
    "ON genres.genreid = tracks.genreid and media_types.MediaTypeId = tracks.MediaTypeId\n",
    "GROUP BY genres.Name, media_types.Name\n",
    "having MIN(tracks.UnitPrice) > 1.5\n"
   ]
  },
  {
   "cell_type": "markdown",
   "metadata": {},
   "source": [
    "## Задание 4\n",
    "Вывести компании, сделавшие максимальное и минимальное число заказов."
   ]
  },
  {
   "cell_type": "code",
   "execution_count": 9,
   "metadata": {},
   "outputs": [
    {
     "name": "stdout",
     "output_type": "stream",
     "text": [
      "Done.\n"
     ]
    },
    {
     "data": {
      "text/html": [
       "<table>\n",
       "    <tr>\n",
       "        <th>Company</th>\n",
       "        <th>Quentity</th>\n",
       "    </tr>\n",
       "    <tr>\n",
       "        <td>Apple Inc.</td>\n",
       "        <td>7</td>\n",
       "    </tr>\n",
       "    <tr>\n",
       "        <td>Banco do Brasil S.A.</td>\n",
       "        <td>7</td>\n",
       "    </tr>\n",
       "    <tr>\n",
       "        <td>Embraer - Empresa Brasileira de Aeronáutica S.A.</td>\n",
       "        <td>7</td>\n",
       "    </tr>\n",
       "    <tr>\n",
       "        <td>Google Inc.</td>\n",
       "        <td>7</td>\n",
       "    </tr>\n",
       "    <tr>\n",
       "        <td>JetBrains s.r.o.</td>\n",
       "        <td>7</td>\n",
       "    </tr>\n",
       "    <tr>\n",
       "        <td>Microsoft Corporation</td>\n",
       "        <td>7</td>\n",
       "    </tr>\n",
       "    <tr>\n",
       "        <td>Riotur</td>\n",
       "        <td>7</td>\n",
       "    </tr>\n",
       "    <tr>\n",
       "        <td>Rogers Canada</td>\n",
       "        <td>7</td>\n",
       "    </tr>\n",
       "    <tr>\n",
       "        <td>Telus</td>\n",
       "        <td>7</td>\n",
       "    </tr>\n",
       "    <tr>\n",
       "        <td>Woodstock Discos</td>\n",
       "        <td>7</td>\n",
       "    </tr>\n",
       "</table>"
      ],
      "text/plain": [
       "[('Apple Inc.', 7),\n",
       " ('Banco do Brasil S.A.', 7),\n",
       " ('Embraer - Empresa Brasileira de Aeronáutica S.A.', 7),\n",
       " ('Google Inc.', 7),\n",
       " ('JetBrains s.r.o.', 7),\n",
       " ('Microsoft Corporation', 7),\n",
       " ('Riotur', 7),\n",
       " ('Rogers Canada', 7),\n",
       " ('Telus', 7),\n",
       " ('Woodstock Discos', 7)]"
      ]
     },
     "execution_count": 9,
     "metadata": {},
     "output_type": "execute_result"
    }
   ],
   "source": [
    "%%sql\n",
    "WITH Name AS(\n",
    "SELECT Company, COUNT(Company) AS Quentity \n",
    "FROM customers\n",
    "JOIN Invoices \n",
    "ON customers.CustomerId = invoices.CustomerId\n",
    "WHERE Company <> 'None'\n",
    "GROUP BY Company)\n",
    "    \n",
    "SELECT *\n",
    "FROM Name\n",
    "WHERE Quentity = (SELECT MIN(Quentity) FROM Name)\n",
    "UNION\n",
    "SELECT *\n",
    "FROM Name\n",
    "WHERE  Quentity = (SELECT MAX(Quentity) FROM Name) \n",
    "    "
   ]
  },
  {
   "cell_type": "markdown",
   "metadata": {},
   "source": [
    "## Задание 5\n",
    "Для каждой компании вывести общее количестов песен, купленных по жанру поп-музыки"
   ]
  },
  {
   "cell_type": "code",
   "execution_count": 7,
   "metadata": {},
   "outputs": [
    {
     "name": "stdout",
     "output_type": "stream",
     "text": [
      "Done.\n"
     ]
    },
    {
     "data": {
      "text/html": [
       "<table>\n",
       "    <tr>\n",
       "        <th>Company</th>\n",
       "        <th>Number of songs</th>\n",
       "    </tr>\n",
       "    <tr>\n",
       "        <td>Embraer - Empresa Brasileira de Aeronáutica S.A.</td>\n",
       "        <td>2</td>\n",
       "    </tr>\n",
       "    <tr>\n",
       "        <td>JetBrains s.r.o.</td>\n",
       "        <td>4</td>\n",
       "    </tr>\n",
       "</table>"
      ],
      "text/plain": [
       "[('Embraer - Empresa Brasileira de Aeronáutica S.A.', 2),\n",
       " ('JetBrains s.r.o.', 4)]"
      ]
     },
     "execution_count": 7,
     "metadata": {},
     "output_type": "execute_result"
    }
   ],
   "source": [
    "%%sql\n",
    "SELECT customers.Company as 'Company', COUNT(*) as 'Number of songs'\n",
    "FROM customers\n",
    "INNER JOIN invoices\n",
    "ON customers.CustomerId = invoices.CustomerId\n",
    "INNER JOIN invoice_items\n",
    "ON invoices.InvoiceId = invoice_items.InvoiceId\n",
    "INNER JOIN tracks\n",
    "ON invoice_items.TrackId = tracks.TrackId\n",
    "INNER JOIN genres\n",
    "ON tracks.GenreId = genres.GenreId\n",
    "WHERE (genres.Name = 'Pop') and (customers.Company <> 'None')\n",
    "GROUP BY customers.Company;\n",
    "\n"
   ]
  },
  {
   "cell_type": "markdown",
   "metadata": {},
   "source": [
    "## Задание 6\n",
    "Вывести средний размер альбома в байтах."
   ]
  },
  {
   "cell_type": "code",
   "execution_count": 11,
   "metadata": {},
   "outputs": [
    {
     "name": "stdout",
     "output_type": "stream",
     "text": [
      "Done.\n"
     ]
    },
    {
     "data": {
      "text/html": [
       "<table>\n",
       "    <tr>\n",
       "        <th>Average size</th>\n",
       "    </tr>\n",
       "    <tr>\n",
       "        <td>338288920.3170029</td>\n",
       "    </tr>\n",
       "</table>"
      ],
      "text/plain": [
       "[(338288920.3170029,)]"
      ]
     },
     "execution_count": 11,
     "metadata": {},
     "output_type": "execute_result"
    }
   ],
   "source": [
    "%%sql\n",
    "WITH Albums2 AS (SELECT distinct albums.Title as 'Album', SUM(tracks.Bytes) as \"Sum\"\n",
    "FROM albums\n",
    "INNER JOIN tracks\n",
    "ON albums.AlbumId = tracks.AlbumId\n",
    "GROUP BY albums.title)\n",
    "\n",
    "SELECT AVG(Sum) as 'Average size'\n",
    "FROM Albums2\n"
   ]
  },
  {
   "cell_type": "code",
   "execution_count": 12,
   "metadata": {},
   "outputs": [
    {
     "name": "stdout",
     "output_type": "stream",
     "text": [
      "Done.\n"
     ]
    },
    {
     "data": {
      "text/html": [
       "<table>\n",
       "    <tr>\n",
       "        <th>Average size</th>\n",
       "    </tr>\n",
       "    <tr>\n",
       "        <td>338288920.3170029</td>\n",
       "    </tr>\n",
       "</table>"
      ],
      "text/plain": [
       "[(338288920.3170029,)]"
      ]
     },
     "execution_count": 12,
     "metadata": {},
     "output_type": "execute_result"
    }
   ],
   "source": [
    "%%sql\n",
    "SELECT AVG(Sum) as 'Average size'\n",
    "FROM(\n",
    "SELECT distinct albums.Title as 'Album', SUM(tracks.Bytes) as \"Sum\"\n",
    "FROM albums\n",
    "INNER JOIN tracks\n",
    "ON albums.AlbumId = tracks.AlbumId\n",
    "GROUP BY albums.title)\n",
    "\n",
    "\n"
   ]
  },
  {
   "cell_type": "code",
   "execution_count": null,
   "metadata": {},
   "outputs": [],
   "source": []
  },
  {
   "cell_type": "code",
   "execution_count": null,
   "metadata": {
    "collapsed": true
   },
   "outputs": [],
   "source": []
  }
 ],
 "metadata": {
  "kernelspec": {
   "display_name": "Python 3",
   "language": "python",
   "name": "python3"
  },
  "language_info": {
   "codemirror_mode": {
    "name": "ipython",
    "version": 3
   },
   "file_extension": ".py",
   "mimetype": "text/x-python",
   "name": "python",
   "nbconvert_exporter": "python",
   "pygments_lexer": "ipython3",
   "version": "3.6.8"
  }
 },
 "nbformat": 4,
 "nbformat_minor": 2
}
