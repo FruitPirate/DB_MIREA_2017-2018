{
 "cells": [
  {
   "cell_type": "markdown",
   "metadata": {
    "collapsed": true
   },
   "source": [
    "# Домашнее задание 2 \n",
    "\n",
    "Необходимо реализовать схему, указанную в hw_diagram.pdf \n"
   ]
  },
  {
   "cell_type": "markdown",
   "metadata": {},
   "source": [
    "## Описание таблиц \n",
    "PeopleStatus - Описание возможных статусов людей, которые есть в университете (Студент, Преподаватель).\n",
    "Faculties - Описание факультетов, которые есть в университете (KIB, IT, и т.д.).\n",
    "People - Информация о людях в университете (Имя, почта, ссылка на факультет, ссылка на статус).\n",
    "Classes - Описание возможных классов в университете (название (Математический анализ) и ссылка на факультет).\n",
    "Semesters - Справочник семестров факультета(например, Осень2016, '2016-01-01', '2016-12-31').\n",
    "ClassesSchedule - Расписание классов (ссылки на семестр, преподавателя и курс, день недели, время начала).\n",
    "StudentsSchedule - Таблица, описывающая, какой студент ходит на какой курс."
   ]
  },
  {
   "cell_type": "code",
   "execution_count": 1,
   "metadata": {},
   "outputs": [
    {
     "data": {
      "text/plain": [
       "'Connected: @chinook.db'"
      ]
     },
     "execution_count": 1,
     "metadata": {},
     "output_type": "execute_result"
    }
   ],
   "source": [
    "# Не забудьте настроить соединение!\n",
    "%load_ext sql\n",
    "%sql sqlite:///chinook.db"
   ]
  },
  {
   "cell_type": "markdown",
   "metadata": {},
   "source": [
    "## Создание таблиц\n",
    "Напишет ниже скрипты по созданию таблиц с учетом всех внешних ключей."
   ]
  },
  {
   "cell_type": "code",
   "execution_count": 2,
   "metadata": {
    "scrolled": true
   },
   "outputs": [
    {
     "name": "stdout",
     "output_type": "stream",
     "text": [
      " * sqlite:///chinook.db\n",
      "Done.\n",
      "Done.\n",
      "Done.\n",
      "Done.\n",
      "Done.\n",
      "Done.\n",
      "Done.\n",
      "Done.\n",
      "Done.\n",
      "Done.\n",
      "Done.\n",
      "Done.\n",
      "Done.\n",
      "Done.\n"
     ]
    },
    {
     "data": {
      "text/plain": [
       "[]"
      ]
     },
     "execution_count": 2,
     "metadata": {},
     "output_type": "execute_result"
    }
   ],
   "source": [
    "%%sql\n",
    "drop table if exists StudentsSchedule;\n",
    "drop table if exists ClassesSchedule;\n",
    "drop table if exists People;\n",
    "drop table if exists Classes;\n",
    "drop table if exists Faculties;\n",
    "drop table if exists PeopleStatus;\n",
    "drop table if exists Semesters;\n",
    "\n",
    "\n",
    "\n",
    "CREATE TABLE Semesters (\n",
    "    id integer primary key,\n",
    "    shortname varchar(50),\n",
    "    date_start date,\n",
    "    date_end date\n",
    ");\n",
    "\n",
    "CREATE TABLE PeopleStatus (\n",
    "    id integer primary key,\n",
    "    name varchar(50)\n",
    ");\n",
    "\n",
    "CREATE TABLE Faculties (\n",
    "    id integer primary key,\n",
    "    name varchar(50)\n",
    ");\n",
    "\n",
    "CREATE TABLE Classes (\n",
    "    id integer primary key,\n",
    "    description varchar(50),\n",
    "    fac_id integer,\n",
    "    foreign key (fac_id) references Faculties(id)\n",
    ");\n",
    "\n",
    "CREATE TABLE People (\n",
    "    id integer primary key,\n",
    "    name varchar(50),\n",
    "    email varchar(50),\n",
    "    fac_id integer,\n",
    "    status_id integer,\n",
    "    foreign key (fac_id) references Faculties(id),\n",
    "    foreign key (status_id) references PeopleStatus(id)\n",
    ");\n",
    "\n",
    "CREATE TABLE ClassesSchedule (\n",
    "    id integer primary key,\n",
    "    class_id integer,\n",
    "    teacher_id integer,\n",
    "    semester_id integer,\n",
    "    week_day integer,\n",
    "    time_start integer,\n",
    "    foreign key (class_id) references Classes(id),\n",
    "    foreign key (teacher_id) references People(id),\n",
    "    foreign key (semester_id) references Semesters(id)\n",
    ");\n",
    "\n",
    "\n",
    "CREATE TABLE StudentsSchedule (\n",
    "    student_id integer,\n",
    "    classesschedule_id integer,\n",
    "    primary key(student_id, classesschedule_id),\n",
    "    foreign key (student_id) references People(id),\n",
    "    foreign key (classesschedule_id) references ClassesSchedule(id)\n",
    ");\n"
   ]
  },
  {
   "cell_type": "markdown",
   "metadata": {},
   "source": [
    "## Добавление записей в таблицы\n",
    "Приведите примеры добавления записей в каждую из таблиц\n"
   ]
  },
  {
   "cell_type": "code",
   "execution_count": 21,
   "metadata": {},
   "outputs": [
    {
     "name": "stdout",
     "output_type": "stream",
     "text": [
      "Done.\n"
     ]
    },
    {
     "data": {
      "text/plain": [
       "[]"
      ]
     },
     "execution_count": 21,
     "metadata": {},
     "output_type": "execute_result"
    }
   ],
   "source": [
    "%%sql\n",
    "PRAGMA foreign_keys = ON;"
   ]
  },
  {
   "cell_type": "code",
   "execution_count": 22,
   "metadata": {},
   "outputs": [
    {
     "name": "stdout",
     "output_type": "stream",
     "text": [
      "2 rows affected.\n",
      "2 rows affected.\n",
      "2 rows affected.\n",
      "2 rows affected.\n",
      "4 rows affected.\n",
      "2 rows affected.\n",
      "2 rows affected.\n"
     ]
    },
    {
     "data": {
      "text/plain": [
       "[]"
      ]
     },
     "execution_count": 22,
     "metadata": {},
     "output_type": "execute_result"
    }
   ],
   "source": [
    "%%sql\n",
    "INSERT INTO 'Faculties' VALUES\n",
    "(1, 'Applied mathematics'),\n",
    "(2, 'Applied informatics');\n",
    "\n",
    "INSERT INTO 'PeopleStatus' VALUES \n",
    "(1, 'teacher'),\n",
    "(2, 'student');\n",
    "\n",
    "INSERT INTO 'Semesters' VALUES\n",
    "(1, 'first', 2017-09-01, 2017-12-30),\n",
    "(2, 'second', 2018-02-01, 2018-05-30);\n",
    "\n",
    "INSERT INTO 'Classes' ('id', 'description', 'fac_id') VALUES\n",
    "(1, 'Math', 1),\n",
    "(2, 'Programming', 2);\n",
    "\n",
    "INSERT INTO 'People' ('id', 'name', 'email', 'fac_id', 'status_id') VALUES\n",
    "(1, 'Alexander', 'sanyamail.ru', 1, 1),\n",
    "(2, 'Roman', 'romamail.ru', 2, 1),\n",
    "(3, 'Mikhail', 'mishayandex.ru', 1, 2),\n",
    "(4, 'Ivan', 'vanyagmail.com', 2, 2);\n",
    "\n",
    "INSERT INTO 'ClassesSchedule' ('id', 'class_id', 'teacher_id', 'semester_id', 'week_day', 'time_start') VALUES\n",
    "(1, 1, 3, 1, 1, 1),\n",
    "(2, 2, 4, 2, 1, 1);\n",
    "\n",
    "INSERT INTO 'StudentsSchedule' ('student_id', 'classesschedule_id') VALUES\n",
    "(1, 1),\n",
    "(2, 2);\n"
   ]
  }
 ],
 "metadata": {
  "kernelspec": {
   "display_name": "Python 3",
   "language": "python",
   "name": "python3"
  },
  "language_info": {
   "codemirror_mode": {
    "name": "ipython",
    "version": 3
   },
   "file_extension": ".py",
   "mimetype": "text/x-python",
   "name": "python",
   "nbconvert_exporter": "python",
   "pygments_lexer": "ipython3",
   "version": "3.6.8"
  }
 },
 "nbformat": 4,
 "nbformat_minor": 2
}
