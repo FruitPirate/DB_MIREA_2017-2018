{
 "cells": [
  {
   "cell_type": "markdown",
   "metadata": {},
   "source": [
    "Данное домашнее задание посвящено схеме базе данных, связанной с футбольным командами. Схема расположена в hw_diagram.jpg\n",
    "## Описание таблиц \n",
    "\n",
    "### Positions \n",
    "Позиции игроков\n",
    "id - уникальный идентификатор позиции \n",
    "Name - Название таблицы \n",
    "\n",
    "### Coaches \n",
    "Таблица тренеров \n",
    "id - уникальный идентификатор тренера\n",
    "Name - имя тренера \n",
    "\n",
    "## Teams \n",
    "Таблица команд \n",
    "id - уникальный идентификатор  команды \n",
    "Name - имя команды \n",
    "Location - расположение команды \n",
    "Coach_id - идентификатор тренера \n",
    "\n",
    "### Players \n",
    "Таблица игроков \n",
    "Id - уникальный идентификатор игрока \n",
    "Name - имя игрока \n",
    "Age - возраст игрока \n",
    "Position_id - идентификатор позиции \n",
    "Team_id - идентификатор команды \n",
    "Start_date - дата начала игры в команде \n",
    "\n",
    "### PlayersArchive \n",
    "Архив по игрокам (информация о том, в какой команде игрок играл ранее) \n",
    "player_id - идентификатор игрока \n",
    "team_id - идентификатор команды \n",
    "start_date - дата начала игры \n",
    "end_date - дата окончания игры"
   ]
  },
  {
   "cell_type": "code",
   "execution_count": 603,
   "metadata": {},
   "outputs": [
    {
     "name": "stdout",
     "output_type": "stream",
     "text": [
      "The sql extension is already loaded. To reload it, use:\n",
      "  %reload_ext sql\n"
     ]
    },
    {
     "data": {
      "text/plain": [
       "'Connected: None@chinook.db'"
      ]
     },
     "execution_count": 603,
     "metadata": {},
     "output_type": "execute_result"
    }
   ],
   "source": [
    "%load_ext sql\n",
    "%sql sqlite:///chinook.db"
   ]
  },
  {
   "cell_type": "markdown",
   "metadata": {},
   "source": [
    "# Задание 1\n",
    "Реализовать перенакатываемые sql-скрипты по схеме hw_diagram, приложенного ниже."
   ]
  },
  {
   "cell_type": "code",
   "execution_count": 604,
   "metadata": {
    "scrolled": true
   },
   "outputs": [
    {
     "name": "stdout",
     "output_type": "stream",
     "text": [
      "Done.\n",
      "Done.\n",
      "Done.\n",
      "Done.\n",
      "Done.\n",
      "Done.\n",
      "Done.\n",
      "Done.\n",
      "Done.\n",
      "Done.\n",
      "Done.\n"
     ]
    },
    {
     "data": {
      "text/plain": [
       "[]"
      ]
     },
     "execution_count": 604,
     "metadata": {},
     "output_type": "execute_result"
    }
   ],
   "source": [
    "%%sql\n",
    "pragma foreign_keys = on;\n",
    "drop table if exists PlayeesArchive;\n",
    "drop table if exists Players;\n",
    "drop table if exists Teams;\n",
    "drop table if exists Positions;\n",
    "drop table if exists Coaches;\n",
    "\n",
    "create table Positions(\n",
    "    id integer(0,0) not null,\n",
    "    Name varchar,\n",
    "    primary key(id)\n",
    ");\n",
    "create table Coaches(\n",
    "    id integer(0,0) not null,\n",
    "    Name varchar,\n",
    "    primary key(id)\n",
    ");\n",
    "create table Teams(\n",
    "    id integer(0,0) not null,\n",
    "    Name varchar,\n",
    "    Location varchar,\n",
    "    Coach_id integer,\n",
    "    primary key(id),\n",
    "    foreign key(Coach_id) references Coaches (id)\n",
    ");\n",
    "create table Players(\n",
    "    id integer(0,0) not null,\n",
    "    Name varchar,\n",
    "    Age integer not null,\n",
    "    Position_id integer(0,0) not null,\n",
    "    Team_id integer(0,0) not null,\n",
    "    Start_date date,\n",
    "    primary key(id),\n",
    "    foreign key(Team_id) references Teams (id),\n",
    "    foreign key(Position_id) references Positions (id)\n",
    ");\n",
    "create table PlayeesArchive(\n",
    "    Player_id integer(0,0) not null,\n",
    "    Team_id integer(0,0) not null,\n",
    "    start_date date,\n",
    "    end_date date,\n",
    "    primary key(Player_id,Team_id),\n",
    "    foreign key(Player_id) references Players (id),\n",
    "    foreign key(Team_id) references Teams (id)\n",
    ");"
   ]
  },
  {
   "cell_type": "markdown",
   "metadata": {},
   "source": [
    "# Задание 2\n",
    "Написать sql-скрипт, осуществляюший добавление всех возможных позиций игроков. (В данной задаче можно ограничится четырьмя - вратарь, защитник, полузащитник, нападающий)"
   ]
  },
  {
   "cell_type": "code",
   "execution_count": 605,
   "metadata": {
    "scrolled": true
   },
   "outputs": [
    {
     "name": "stdout",
     "output_type": "stream",
     "text": [
      "4 rows affected.\n",
      "Done.\n"
     ]
    },
    {
     "data": {
      "text/html": [
       "<table>\n",
       "    <tr>\n",
       "        <th>id</th>\n",
       "        <th>Name</th>\n",
       "    </tr>\n",
       "    <tr>\n",
       "        <td>1</td>\n",
       "        <td>нап</td>\n",
       "    </tr>\n",
       "    <tr>\n",
       "        <td>2</td>\n",
       "        <td>плз</td>\n",
       "    </tr>\n",
       "    <tr>\n",
       "        <td>3</td>\n",
       "        <td>защ</td>\n",
       "    </tr>\n",
       "    <tr>\n",
       "        <td>4</td>\n",
       "        <td>врт</td>\n",
       "    </tr>\n",
       "</table>"
      ],
      "text/plain": [
       "[(1, 'нап'), (2, 'плз'), (3, 'защ'), (4, 'врт')]"
      ]
     },
     "execution_count": 605,
     "metadata": {},
     "output_type": "execute_result"
    }
   ],
   "source": [
    "%%sql\n",
    "insert into Positions(id,Name) values(1,'нап'),(2,'плз'),(3,'защ'),(4,'врт');\n",
    "select* from Positions\n",
    "\n",
    "\n"
   ]
  },
  {
   "cell_type": "markdown",
   "metadata": {},
   "source": [
    "# Задание 3\n",
    "Написать функцию, осуществляющую добавление тренера. На вход функции подается имя тренера. При невозможности вставки функция должна обработать данное исключение и вывести пользователю информацию о проблеме\n",
    "\n",
    "После написания функции необходимо добавить несколько тренеров для таблицы."
   ]
  },
  {
   "cell_type": "code",
   "execution_count": 606,
   "metadata": {
    "collapsed": true
   },
   "outputs": [],
   "source": [
    "import sqlite3\n",
    "db=sqlite3.connect('chinook.db')\n",
    "def insert_coach(Name):\n",
    "    cur = db.cursor();\n",
    "    try:\n",
    "        cur.execute('''select coalesce(max(id)+1,1) from Coaches''')\n",
    "        id=cur.fetchone()[0]  \n",
    "        cur.execute('''insert into Coaches(id, Name) values(?,?)''', (id,Name))\n",
    "        db.commit()\n",
    "        return id\n",
    "    \n",
    "    except Typeerror:\n",
    "        print('Error')\n",
    "        return -1\n",
    "       \n",
    "    \n",
    "\n"
   ]
  },
  {
   "cell_type": "code",
   "execution_count": 607,
   "metadata": {},
   "outputs": [
    {
     "data": {
      "text/plain": [
       "7"
      ]
     },
     "execution_count": 607,
     "metadata": {},
     "output_type": "execute_result"
    }
   ],
   "source": [
    "insert_coach('Gvardiola')\n",
    "insert_coach('Mourinho')\n",
    "insert_coach('Bishovec')\n",
    "insert_coach('Cherchesov')\n",
    "insert_coach('Kobelev')\n",
    "insert_coach('Karera')\n",
    "insert_coach('Semak')"
   ]
  },
  {
   "cell_type": "code",
   "execution_count": 608,
   "metadata": {},
   "outputs": [
    {
     "name": "stdout",
     "output_type": "stream",
     "text": [
      "Done.\n"
     ]
    },
    {
     "data": {
      "text/html": [
       "<table>\n",
       "    <tr>\n",
       "        <th>id</th>\n",
       "        <th>Name</th>\n",
       "    </tr>\n",
       "    <tr>\n",
       "        <td>1</td>\n",
       "        <td>Gvardiola</td>\n",
       "    </tr>\n",
       "    <tr>\n",
       "        <td>2</td>\n",
       "        <td>Mourinho</td>\n",
       "    </tr>\n",
       "    <tr>\n",
       "        <td>3</td>\n",
       "        <td>Bishovec</td>\n",
       "    </tr>\n",
       "    <tr>\n",
       "        <td>4</td>\n",
       "        <td>Cherchesov</td>\n",
       "    </tr>\n",
       "    <tr>\n",
       "        <td>5</td>\n",
       "        <td>Kobelev</td>\n",
       "    </tr>\n",
       "    <tr>\n",
       "        <td>6</td>\n",
       "        <td>Karera</td>\n",
       "    </tr>\n",
       "    <tr>\n",
       "        <td>7</td>\n",
       "        <td>Semak</td>\n",
       "    </tr>\n",
       "</table>"
      ],
      "text/plain": [
       "[(1, 'Gvardiola'),\n",
       " (2, 'Mourinho'),\n",
       " (3, 'Bishovec'),\n",
       " (4, 'Cherchesov'),\n",
       " (5, 'Kobelev'),\n",
       " (6, 'Karera'),\n",
       " (7, 'Semak')]"
      ]
     },
     "execution_count": 608,
     "metadata": {},
     "output_type": "execute_result"
    }
   ],
   "source": [
    "%%sql\n",
    "select * from Coaches"
   ]
  },
  {
   "cell_type": "markdown",
   "metadata": {},
   "source": [
    "# Задание 4\n",
    "\n",
    "Написать функцию, осуществляющую добавление команды. На вход функция принимает (имя команды, местоположение, имя тренера).\n",
    "На выходе должна быть добавлена команда.\n",
    "\n",
    "После написания функции необходимо добавить несколько команд"
   ]
  },
  {
   "cell_type": "code",
   "execution_count": 609,
   "metadata": {
    "collapsed": true
   },
   "outputs": [],
   "source": [
    "\n",
    "def check_coach(Coach):\n",
    "    cur = db.cursor()\n",
    "    cur.execute('''select id from Coaches where Name = ?''', (Coach,))\n",
    "    try:\n",
    "        coach_id = cur.fetchone()[0]\n",
    "    \n",
    "        return coach_id\n",
    "    except TypeError:\n",
    "        print('Error')\n",
    "        return -1\n",
    "       \n",
    "        "
   ]
  },
  {
   "cell_type": "code",
   "execution_count": 610,
   "metadata": {},
   "outputs": [
    {
     "data": {
      "text/plain": [
       "1"
      ]
     },
     "execution_count": 610,
     "metadata": {},
     "output_type": "execute_result"
    }
   ],
   "source": [
    "\n",
    "check_coach('Gvardiola')"
   ]
  },
  {
   "cell_type": "code",
   "execution_count": 611,
   "metadata": {},
   "outputs": [
    {
     "data": {
      "text/plain": [
       "2"
      ]
     },
     "execution_count": 611,
     "metadata": {},
     "output_type": "execute_result"
    }
   ],
   "source": [
    "check_coach('Mourinho')"
   ]
  },
  {
   "cell_type": "code",
   "execution_count": 612,
   "metadata": {},
   "outputs": [
    {
     "name": "stdout",
     "output_type": "stream",
     "text": [
      "Error\n"
     ]
    },
    {
     "data": {
      "text/plain": [
       "-1"
      ]
     },
     "execution_count": 612,
     "metadata": {},
     "output_type": "execute_result"
    }
   ],
   "source": [
    "check_coach('jjjj')"
   ]
  },
  {
   "cell_type": "code",
   "execution_count": 613,
   "metadata": {
    "collapsed": true
   },
   "outputs": [],
   "source": [
    "\n",
    "def insert_team(Name,Location,Coach):\n",
    "    cur = db.cursor();\n",
    "    cur.execute('''select coalesce(max(id)+1,1) from Teams''')\n",
    "    id=cur.fetchone()[0]  \n",
    "    Coach_id = check_coach(Coach)\n",
    "    cur.execute('''insert into Teams(id, Name,Location,Coach_id) values(?,?,?,?)''', (id,Name,Location,Coach_id))\n",
    "    db.commit()\n",
    "    "
   ]
  },
  {
   "cell_type": "code",
   "execution_count": 614,
   "metadata": {
    "collapsed": true
   },
   "outputs": [],
   "source": [
    "insert_team('Dinamo', 'Moscow', 'Kobelev')\n",
    "insert_team('Spartak','Moscow','Karera')\n",
    "insert_team('Ufa','Ufa','Semak')\n"
   ]
  },
  {
   "cell_type": "code",
   "execution_count": 615,
   "metadata": {},
   "outputs": [
    {
     "name": "stdout",
     "output_type": "stream",
     "text": [
      "Done.\n"
     ]
    },
    {
     "data": {
      "text/html": [
       "<table>\n",
       "    <tr>\n",
       "        <th>id</th>\n",
       "        <th>Name</th>\n",
       "        <th>Location</th>\n",
       "        <th>Coach_id</th>\n",
       "    </tr>\n",
       "    <tr>\n",
       "        <td>1</td>\n",
       "        <td>Dinamo</td>\n",
       "        <td>Moscow</td>\n",
       "        <td>5</td>\n",
       "    </tr>\n",
       "    <tr>\n",
       "        <td>2</td>\n",
       "        <td>Spartak</td>\n",
       "        <td>Moscow</td>\n",
       "        <td>6</td>\n",
       "    </tr>\n",
       "    <tr>\n",
       "        <td>3</td>\n",
       "        <td>Ufa</td>\n",
       "        <td>Ufa</td>\n",
       "        <td>7</td>\n",
       "    </tr>\n",
       "</table>"
      ],
      "text/plain": [
       "[(1, 'Dinamo', 'Moscow', 5), (2, 'Spartak', 'Moscow', 6), (3, 'Ufa', 'Ufa', 7)]"
      ]
     },
     "execution_count": 615,
     "metadata": {},
     "output_type": "execute_result"
    }
   ],
   "source": [
    "%%sql\n",
    "select * from Teams"
   ]
  },
  {
   "cell_type": "markdown",
   "metadata": {},
   "source": [
    "# Задание 5\n",
    "\n",
    "Написать функцию, осуществляющую обновление информации о команде. У функции на входе должен быть один обязательный параметр - название команды и два необязательных параметра - имя тренера и местоположение. При этом хотя бы один из необязательных параметров должен быть заполнен. Функция должна обновлять значение переданных необязательных параметров.\n",
    "\n",
    "После написания функции вызовите данную функцию несколько раз"
   ]
  },
  {
   "cell_type": "code",
   "execution_count": 616,
   "metadata": {
    "collapsed": true
   },
   "outputs": [],
   "source": [
    "def upgrade_team(Name,Coach = None,location = None):\n",
    "    cur = db.cursor()\n",
    "    if Coach == None and location == None:\n",
    "        print('Error--no team and no coach')\n",
    "        return -1\n",
    "    if Coach == None and location != None:\n",
    "        cur.execute('''Update Teams set Location = ? where Name = ?''',(location, Name))\n",
    "    if Coach and location == None:\n",
    "        coach_id = check_coach(Coach)\n",
    "        cur.execute('''Update Teams set Coach_id = ? where Name = ?''',(coach_id,Name))\n",
    "    if Coach and location:\n",
    "        coach_id = check_coach(Coach)\n",
    "        cur.execute('''Update Teams set Location = ? where Name = ?''',(location,Name))\n",
    "        cur.execute('''Update Teams set Coach_id = ? where Name = ?''',(coach_id,Name))\n",
    "    db.commit()        \n",
    "        "
   ]
  },
  {
   "cell_type": "code",
   "execution_count": 617,
   "metadata": {},
   "outputs": [
    {
     "name": "stdout",
     "output_type": "stream",
     "text": [
      "Error--no team and no coach\n"
     ]
    },
    {
     "data": {
      "text/plain": [
       "-1"
      ]
     },
     "execution_count": 617,
     "metadata": {},
     "output_type": "execute_result"
    }
   ],
   "source": [
    "upgrade_team('Canunnikov')"
   ]
  },
  {
   "cell_type": "code",
   "execution_count": 618,
   "metadata": {},
   "outputs": [
    {
     "name": "stdout",
     "output_type": "stream",
     "text": [
      "Done.\n"
     ]
    },
    {
     "data": {
      "text/html": [
       "<table>\n",
       "    <tr>\n",
       "        <th>id</th>\n",
       "        <th>Name</th>\n",
       "        <th>Location</th>\n",
       "        <th>Coach_id</th>\n",
       "    </tr>\n",
       "    <tr>\n",
       "        <td>1</td>\n",
       "        <td>Dinamo</td>\n",
       "        <td>Moscow</td>\n",
       "        <td>5</td>\n",
       "    </tr>\n",
       "    <tr>\n",
       "        <td>2</td>\n",
       "        <td>Spartak</td>\n",
       "        <td>Moscow</td>\n",
       "        <td>6</td>\n",
       "    </tr>\n",
       "    <tr>\n",
       "        <td>3</td>\n",
       "        <td>Ufa</td>\n",
       "        <td>Ufa</td>\n",
       "        <td>7</td>\n",
       "    </tr>\n",
       "</table>"
      ],
      "text/plain": [
       "[(1, 'Dinamo', 'Moscow', 5), (2, 'Spartak', 'Moscow', 6), (3, 'Ufa', 'Ufa', 7)]"
      ]
     },
     "execution_count": 618,
     "metadata": {},
     "output_type": "execute_result"
    }
   ],
   "source": [
    "%%sql\n",
    "select * from Teams"
   ]
  },
  {
   "cell_type": "code",
   "execution_count": 619,
   "metadata": {
    "collapsed": true
   },
   "outputs": [],
   "source": [
    "upgrade_team('Dinamo',Coach = 'Bishovec')\n"
   ]
  },
  {
   "cell_type": "code",
   "execution_count": 620,
   "metadata": {},
   "outputs": [
    {
     "name": "stdout",
     "output_type": "stream",
     "text": [
      "Done.\n"
     ]
    },
    {
     "data": {
      "text/html": [
       "<table>\n",
       "    <tr>\n",
       "        <th>id</th>\n",
       "        <th>Name</th>\n",
       "        <th>Location</th>\n",
       "        <th>Coach_id</th>\n",
       "    </tr>\n",
       "    <tr>\n",
       "        <td>1</td>\n",
       "        <td>Dinamo</td>\n",
       "        <td>Moscow</td>\n",
       "        <td>3</td>\n",
       "    </tr>\n",
       "    <tr>\n",
       "        <td>2</td>\n",
       "        <td>Spartak</td>\n",
       "        <td>Moscow</td>\n",
       "        <td>6</td>\n",
       "    </tr>\n",
       "    <tr>\n",
       "        <td>3</td>\n",
       "        <td>Ufa</td>\n",
       "        <td>Ufa</td>\n",
       "        <td>7</td>\n",
       "    </tr>\n",
       "</table>"
      ],
      "text/plain": [
       "[(1, 'Dinamo', 'Moscow', 3), (2, 'Spartak', 'Moscow', 6), (3, 'Ufa', 'Ufa', 7)]"
      ]
     },
     "execution_count": 620,
     "metadata": {},
     "output_type": "execute_result"
    }
   ],
   "source": [
    "%%sql\n",
    "select * from Teams"
   ]
  },
  {
   "cell_type": "code",
   "execution_count": 621,
   "metadata": {},
   "outputs": [
    {
     "name": "stdout",
     "output_type": "stream",
     "text": [
      "Done.\n"
     ]
    },
    {
     "data": {
      "text/html": [
       "<table>\n",
       "    <tr>\n",
       "        <th>id</th>\n",
       "        <th>Name</th>\n",
       "    </tr>\n",
       "    <tr>\n",
       "        <td>1</td>\n",
       "        <td>Gvardiola</td>\n",
       "    </tr>\n",
       "    <tr>\n",
       "        <td>2</td>\n",
       "        <td>Mourinho</td>\n",
       "    </tr>\n",
       "    <tr>\n",
       "        <td>3</td>\n",
       "        <td>Bishovec</td>\n",
       "    </tr>\n",
       "    <tr>\n",
       "        <td>4</td>\n",
       "        <td>Cherchesov</td>\n",
       "    </tr>\n",
       "    <tr>\n",
       "        <td>5</td>\n",
       "        <td>Kobelev</td>\n",
       "    </tr>\n",
       "    <tr>\n",
       "        <td>6</td>\n",
       "        <td>Karera</td>\n",
       "    </tr>\n",
       "    <tr>\n",
       "        <td>7</td>\n",
       "        <td>Semak</td>\n",
       "    </tr>\n",
       "</table>"
      ],
      "text/plain": [
       "[(1, 'Gvardiola'),\n",
       " (2, 'Mourinho'),\n",
       " (3, 'Bishovec'),\n",
       " (4, 'Cherchesov'),\n",
       " (5, 'Kobelev'),\n",
       " (6, 'Karera'),\n",
       " (7, 'Semak')]"
      ]
     },
     "execution_count": 621,
     "metadata": {},
     "output_type": "execute_result"
    }
   ],
   "source": [
    "%%sql\n",
    "select * from Coaches"
   ]
  },
  {
   "cell_type": "code",
   "execution_count": 622,
   "metadata": {
    "collapsed": true
   },
   "outputs": [],
   "source": [
    "upgrade_team('Dinamo',location = 'Leningrad')"
   ]
  },
  {
   "cell_type": "code",
   "execution_count": 623,
   "metadata": {},
   "outputs": [
    {
     "name": "stdout",
     "output_type": "stream",
     "text": [
      "Done.\n"
     ]
    },
    {
     "data": {
      "text/html": [
       "<table>\n",
       "    <tr>\n",
       "        <th>id</th>\n",
       "        <th>Name</th>\n",
       "        <th>Location</th>\n",
       "        <th>Coach_id</th>\n",
       "    </tr>\n",
       "    <tr>\n",
       "        <td>1</td>\n",
       "        <td>Dinamo</td>\n",
       "        <td>Leningrad</td>\n",
       "        <td>3</td>\n",
       "    </tr>\n",
       "    <tr>\n",
       "        <td>2</td>\n",
       "        <td>Spartak</td>\n",
       "        <td>Moscow</td>\n",
       "        <td>6</td>\n",
       "    </tr>\n",
       "    <tr>\n",
       "        <td>3</td>\n",
       "        <td>Ufa</td>\n",
       "        <td>Ufa</td>\n",
       "        <td>7</td>\n",
       "    </tr>\n",
       "</table>"
      ],
      "text/plain": [
       "[(1, 'Dinamo', 'Leningrad', 3),\n",
       " (2, 'Spartak', 'Moscow', 6),\n",
       " (3, 'Ufa', 'Ufa', 7)]"
      ]
     },
     "execution_count": 623,
     "metadata": {},
     "output_type": "execute_result"
    }
   ],
   "source": [
    "%%sql\n",
    "select * from Teams"
   ]
  },
  {
   "cell_type": "code",
   "execution_count": 624,
   "metadata": {
    "collapsed": true
   },
   "outputs": [],
   "source": [
    "upgrade_team('Dinamo',Coach = 'Kobelev',location = 'Moscow')"
   ]
  },
  {
   "cell_type": "code",
   "execution_count": 625,
   "metadata": {},
   "outputs": [
    {
     "name": "stdout",
     "output_type": "stream",
     "text": [
      "Done.\n"
     ]
    },
    {
     "data": {
      "text/html": [
       "<table>\n",
       "    <tr>\n",
       "        <th>id</th>\n",
       "        <th>Name</th>\n",
       "        <th>Location</th>\n",
       "        <th>Coach_id</th>\n",
       "    </tr>\n",
       "    <tr>\n",
       "        <td>1</td>\n",
       "        <td>Dinamo</td>\n",
       "        <td>Moscow</td>\n",
       "        <td>5</td>\n",
       "    </tr>\n",
       "    <tr>\n",
       "        <td>2</td>\n",
       "        <td>Spartak</td>\n",
       "        <td>Moscow</td>\n",
       "        <td>6</td>\n",
       "    </tr>\n",
       "    <tr>\n",
       "        <td>3</td>\n",
       "        <td>Ufa</td>\n",
       "        <td>Ufa</td>\n",
       "        <td>7</td>\n",
       "    </tr>\n",
       "</table>"
      ],
      "text/plain": [
       "[(1, 'Dinamo', 'Moscow', 5), (2, 'Spartak', 'Moscow', 6), (3, 'Ufa', 'Ufa', 7)]"
      ]
     },
     "execution_count": 625,
     "metadata": {},
     "output_type": "execute_result"
    }
   ],
   "source": [
    "%%sql\n",
    "select * from Teams"
   ]
  },
  {
   "cell_type": "markdown",
   "metadata": {},
   "source": [
    "# Задание 6\n",
    "\n",
    "Написать функцию, осуществляющую добавление нового футболиста в таблицу игроков. На входе (имя, возраст, название позиции, название команды, дата перехода в команду(необязательный параметр)). Если дата перехода не указана, то нужно использовать текущую дату. Предусмотреть различные ошибки (такие как неверное имя позиции, неверное название команды, возраст < 10 и > 50 и т.п.)\n",
    "\n",
    "После написания функции необходимо добавить несколько игроков."
   ]
  },
  {
   "cell_type": "code",
   "execution_count": 626,
   "metadata": {
    "collapsed": true
   },
   "outputs": [],
   "source": [
    "def add_player(name, age, position, team, date = None):\n",
    "    cur = db.cursor()\n",
    "    cur.execute('''select coalesce(max(id)+1,1) from Players''')\n",
    "    try:\n",
    "        id = cur.fetchone()[0]\n",
    "        cur.execute('''select id from Positions where Name = ?''',(position,))\n",
    "        position_id = cur.fetchone()[0]\n",
    "        cur.execute('''select id from Teams where Name = ?''',(team,))\n",
    "        team_id = cur.fetchone()[0]\n",
    "        cur.execute( ''' SELECT id from positions ''');\n",
    "        pos_all = cur.fetchall()\n",
    "        if date == None:\n",
    "            cur.execute('''select date(current_date)''')\n",
    "            date = cur.fetchone()[0]\n",
    "           # print(pos_all)\n",
    "        if ((position_id,) in pos_all and (age < 50 and age > 10)):\n",
    "            cur.execute('''insert into Players (id,Name,Age,Position_id,Team_id,Start_date) values(?,?,?,?,?,?)''',\n",
    "                        (id,name, age, position_id, team_id,date))\n",
    "        else:\n",
    "            print('Error--')\n",
    "        db.commit()\n",
    "    except TypeError: \n",
    "        print('Error-')\n",
    "            "
   ]
  },
  {
   "cell_type": "code",
   "execution_count": 627,
   "metadata": {
    "collapsed": true
   },
   "outputs": [],
   "source": [
    "add_player('Mhitaryan',28,'нап','Dinamo')\n",
    "add_player('Pavluchenko',30,'нап','Spartak')\n",
    "add_player('Zinchenko',22,'плз','Ufa','2015-02-15')"
   ]
  },
  {
   "cell_type": "code",
   "execution_count": 628,
   "metadata": {},
   "outputs": [
    {
     "name": "stdout",
     "output_type": "stream",
     "text": [
      "Done.\n"
     ]
    },
    {
     "data": {
      "text/html": [
       "<table>\n",
       "    <tr>\n",
       "        <th>id</th>\n",
       "        <th>Name</th>\n",
       "        <th>Age</th>\n",
       "        <th>Position_id</th>\n",
       "        <th>Team_id</th>\n",
       "        <th>Start_date</th>\n",
       "    </tr>\n",
       "    <tr>\n",
       "        <td>1</td>\n",
       "        <td>Mhitaryan</td>\n",
       "        <td>28</td>\n",
       "        <td>1</td>\n",
       "        <td>1</td>\n",
       "        <td>2018-03-03</td>\n",
       "    </tr>\n",
       "    <tr>\n",
       "        <td>2</td>\n",
       "        <td>Pavluchenko</td>\n",
       "        <td>30</td>\n",
       "        <td>1</td>\n",
       "        <td>2</td>\n",
       "        <td>2018-03-03</td>\n",
       "    </tr>\n",
       "    <tr>\n",
       "        <td>3</td>\n",
       "        <td>Zinchenko</td>\n",
       "        <td>22</td>\n",
       "        <td>2</td>\n",
       "        <td>3</td>\n",
       "        <td>2015-02-15</td>\n",
       "    </tr>\n",
       "</table>"
      ],
      "text/plain": [
       "[(1, 'Mhitaryan', 28, 1, 1, '2018-03-03'),\n",
       " (2, 'Pavluchenko', 30, 1, 2, '2018-03-03'),\n",
       " (3, 'Zinchenko', 22, 2, 3, '2015-02-15')]"
      ]
     },
     "execution_count": 628,
     "metadata": {},
     "output_type": "execute_result"
    }
   ],
   "source": [
    "%%sql\n",
    "select * from Players"
   ]
  },
  {
   "cell_type": "markdown",
   "metadata": {},
   "source": [
    "# Задание 7\n",
    "Написать функцию для перевода игрока в другую команду. Данная функция должна осуществить архивирование текущей записи в таблице игроков в таблицу players_archive с заполнение end_date - датой начала игры за новую команду - 1 день. А также осуществлять изменение поля в таблице Players. При возникновении ошибки должен осуществляться полный откат транзакции."
   ]
  },
  {
   "cell_type": "code",
   "execution_count": 633,
   "metadata": {
    "collapsed": true
   },
   "outputs": [],
   "source": [
    "\n",
    "def update_players(name, new_team,date): \n",
    "    cur = db.cursor() \n",
    "    cur.execute('''select coalesce(max(Player_id)+1,1) from PlayersArchive''')\n",
    "    pl_id = cur.fetchone()[0]\n",
    "    cur.execute( '''SELECT DATE(?, '-1 day')''',(date,)) \n",
    "    try: \n",
    "        d=cur.fetchone()[0] \n",
    "        cur.execute( '''SELECT team_id FROM players where name=?''',(name,)) \n",
    "        t= cur.fetchone()[0] \n",
    "        cur.execute( '''SELECT id FROM players where name=?''',(name,)) \n",
    "        ID= cur.fetchone()[0] \n",
    "        cur.execute('''insert into PlayersArchive(Player_id,Team_id,start_date,end_date) values(?,?,?,?)''', (pl_id,d, ID, t,)) \n",
    "        cur.execute( '''SELECT id FROM teams where name=?''',(new_team,)) \n",
    "        tn= cur.fetchone()[0] \n",
    "        cur.execute ('''Update players set team_id = ?, start_date=? where name = ?''', (tn, date, name)) \n",
    "        cur.execute(''' \n",
    "        INSERT INTO playersarchive (player_id, team_id, start_date, end_date ) VALUES(?,?,?,?)''', (ID,tn,date,d)) \n",
    "        db.commit() \n",
    "    except TypeError: \n",
    "        print('Сос') \n",
    "        \n",
    "        db.rollback()"
   ]
  },
  {
   "cell_type": "code",
   "execution_count": 634,
   "metadata": {},
   "outputs": [
    {
     "name": "stderr",
     "output_type": "stream",
     "text": [
      "ERROR:root:An unexpected error occurred while tokenizing input\n",
      "The following traceback may be corrupted or invalid\n",
      "The error message is: ('EOF in multi-line string', (1, 94))\n",
      "\n"
     ]
    },
    {
     "ename": "IntegrityError",
     "evalue": "UNIQUE constraint failed: PlayersArchive.Player_id, PlayersArchive.Team_id",
     "output_type": "error",
     "traceback": [
      "\u001b[1;31m---------------------------------------------------------------------------\u001b[0m",
      "\u001b[1;31mIntegrityError\u001b[0m                            Traceback (most recent call last)",
      "\u001b[1;32m<ipython-input-634-a2e6d4496931>\u001b[0m in \u001b[0;36m<module>\u001b[1;34m()\u001b[0m\n\u001b[1;32m----> 1\u001b[1;33m \u001b[0mupdate_players\u001b[0m\u001b[1;33m(\u001b[0m\u001b[1;34m'Mhitaryan'\u001b[0m\u001b[1;33m,\u001b[0m\u001b[1;34m'Spartak'\u001b[0m\u001b[1;33m,\u001b[0m\u001b[1;34m'2018-12-12'\u001b[0m\u001b[1;33m)\u001b[0m\u001b[1;33m\u001b[0m\u001b[0m\n\u001b[0m",
      "\u001b[1;32m<ipython-input-633-0221ce1597f8>\u001b[0m in \u001b[0;36mupdate_players\u001b[1;34m(name, new_team, date)\u001b[0m\n\u001b[0;32m     16\u001b[0m         \u001b[0mcur\u001b[0m\u001b[1;33m.\u001b[0m\u001b[0mexecute\u001b[0m \u001b[1;33m(\u001b[0m\u001b[1;34m'''Update players set team_id = ?, start_date=? where name = ?'''\u001b[0m\u001b[1;33m,\u001b[0m \u001b[1;33m(\u001b[0m\u001b[0mtn\u001b[0m\u001b[1;33m,\u001b[0m \u001b[0mdate\u001b[0m\u001b[1;33m,\u001b[0m \u001b[0mname\u001b[0m\u001b[1;33m)\u001b[0m\u001b[1;33m)\u001b[0m\u001b[1;33m\u001b[0m\u001b[0m\n\u001b[0;32m     17\u001b[0m         cur.execute(''' \n\u001b[1;32m---> 18\u001b[1;33m         INSERT INTO playersarchive (player_id, team_id, start_date, end_date ) VALUES(?,?,?,?)''', (ID,tn,date,d)) \n\u001b[0m\u001b[0;32m     19\u001b[0m         \u001b[0mdb\u001b[0m\u001b[1;33m.\u001b[0m\u001b[0mcommit\u001b[0m\u001b[1;33m(\u001b[0m\u001b[1;33m)\u001b[0m\u001b[1;33m\u001b[0m\u001b[0m\n\u001b[0;32m     20\u001b[0m     \u001b[1;32mexcept\u001b[0m \u001b[0mTypeError\u001b[0m\u001b[1;33m:\u001b[0m\u001b[1;33m\u001b[0m\u001b[0m\n",
      "\u001b[1;31mIntegrityError\u001b[0m: UNIQUE constraint failed: PlayersArchive.Player_id, PlayersArchive.Team_id"
     ]
    }
   ],
   "source": [
    "update_players('Mhitaryan','Spartak','2018-12-12')"
   ]
  },
  {
   "cell_type": "code",
   "execution_count": 631,
   "metadata": {},
   "outputs": [
    {
     "name": "stdout",
     "output_type": "stream",
     "text": [
      "Done.\n"
     ]
    },
    {
     "data": {
      "text/html": [
       "<table>\n",
       "    <tr>\n",
       "        <th>id</th>\n",
       "        <th>Name</th>\n",
       "        <th>Age</th>\n",
       "        <th>Position_id</th>\n",
       "        <th>Team_id</th>\n",
       "        <th>Start_date</th>\n",
       "    </tr>\n",
       "    <tr>\n",
       "        <td>1</td>\n",
       "        <td>Mhitaryan</td>\n",
       "        <td>28</td>\n",
       "        <td>1</td>\n",
       "        <td>2</td>\n",
       "        <td>2018-12-12</td>\n",
       "    </tr>\n",
       "    <tr>\n",
       "        <td>2</td>\n",
       "        <td>Pavluchenko</td>\n",
       "        <td>30</td>\n",
       "        <td>1</td>\n",
       "        <td>2</td>\n",
       "        <td>2018-03-03</td>\n",
       "    </tr>\n",
       "    <tr>\n",
       "        <td>3</td>\n",
       "        <td>Zinchenko</td>\n",
       "        <td>22</td>\n",
       "        <td>2</td>\n",
       "        <td>3</td>\n",
       "        <td>2015-02-15</td>\n",
       "    </tr>\n",
       "</table>"
      ],
      "text/plain": [
       "[(1, 'Mhitaryan', 28, 1, 2, '2018-12-12'),\n",
       " (2, 'Pavluchenko', 30, 1, 2, '2018-03-03'),\n",
       " (3, 'Zinchenko', 22, 2, 3, '2015-02-15')]"
      ]
     },
     "execution_count": 631,
     "metadata": {},
     "output_type": "execute_result"
    }
   ],
   "source": [
    "%%sql\n",
    "select* from Players"
   ]
  },
  {
   "cell_type": "code",
   "execution_count": 632,
   "metadata": {},
   "outputs": [
    {
     "name": "stdout",
     "output_type": "stream",
     "text": [
      "Done.\n"
     ]
    },
    {
     "data": {
      "text/html": [
       "<table>\n",
       "    <tr>\n",
       "        <th>Player_id</th>\n",
       "        <th>Team_id</th>\n",
       "        <th>start_date</th>\n",
       "        <th>end_date</th>\n",
       "    </tr>\n",
       "    <tr>\n",
       "        <td>1</td>\n",
       "        <td>2018-12-11</td>\n",
       "        <td>1</td>\n",
       "        <td>1</td>\n",
       "    </tr>\n",
       "    <tr>\n",
       "        <td>1</td>\n",
       "        <td>2</td>\n",
       "        <td>2018-12-12</td>\n",
       "        <td></td>\n",
       "    </tr>\n",
       "</table>"
      ],
      "text/plain": [
       "[(1, '2018-12-11', 1, 1), (1, 2, '2018-12-12', '')]"
      ]
     },
     "execution_count": 632,
     "metadata": {},
     "output_type": "execute_result"
    }
   ],
   "source": [
    "%%sql\n",
    "select* from PlayersArchive"
   ]
  },
  {
   "cell_type": "code",
   "execution_count": null,
   "metadata": {
    "collapsed": true
   },
   "outputs": [],
   "source": []
  }
 ],
 "metadata": {
  "kernelspec": {
   "display_name": "Python 3",
   "language": "python",
   "name": "python3"
  },
  "language_info": {
   "codemirror_mode": {
    "name": "ipython",
    "version": 3
   },
   "file_extension": ".py",
   "mimetype": "text/x-python",
   "name": "python",
   "nbconvert_exporter": "python",
   "pygments_lexer": "ipython3",
   "version": "3.6.2"
  }
 },
 "nbformat": 4,
 "nbformat_minor": 2
}
