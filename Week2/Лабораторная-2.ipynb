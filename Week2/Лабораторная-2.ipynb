{
 "cells": [
  {
   "cell_type": "markdown",
   "metadata": {},
   "source": [
    "Осуществим подключение к бд"
   ]
  },
  {
   "cell_type": "code",
   "execution_count": 1,
   "metadata": {},
   "outputs": [
    {
     "data": {
      "text/plain": [
       "'Connected: None@lab_2.db'"
      ]
     },
     "execution_count": 1,
     "metadata": {},
     "output_type": "execute_result"
    }
   ],
   "source": [
    "%load_ext sql\n",
    "%sql sqlite:///lab_2.db"
   ]
  },
  {
   "cell_type": "code",
   "execution_count": 7,
   "metadata": {},
   "outputs": [
    {
     "ename": "SyntaxError",
     "evalue": "invalid syntax (<ipython-input-7-971cfbb64dac>, line 1)",
     "output_type": "error",
     "traceback": [
      "\u001b[1;36m  File \u001b[1;32m\"<ipython-input-7-971cfbb64dac>\"\u001b[1;36m, line \u001b[1;32m1\u001b[0m\n\u001b[1;33m    Создадим таблицу студентов, групп, городов и факультетов\u001b[0m\n\u001b[1;37m                   ^\u001b[0m\n\u001b[1;31mSyntaxError\u001b[0m\u001b[1;31m:\u001b[0m invalid syntax\n"
     ]
    }
   ],
   "source": [
    "Создадим таблицу студентов, групп, городов и факультетов"
   ]
  },
  {
   "cell_type": "code",
   "execution_count": 2,
   "metadata": {},
   "outputs": [
    {
     "name": "stdout",
     "output_type": "stream",
     "text": [
      "Done.\n",
      "Done.\n",
      "Done.\n",
      "Done.\n",
      "Done.\n",
      "Done.\n",
      "Done.\n",
      "Done.\n"
     ]
    },
    {
     "data": {
      "text/plain": [
       "[]"
      ]
     },
     "execution_count": 2,
     "metadata": {},
     "output_type": "execute_result"
    }
   ],
   "source": [
    "%%sql \n",
    "drop table if exists Students;\n",
    "\n",
    "CREATE TABLE Students \n",
    "(\n",
    "    student_id integer primary key, \n",
    "    Name varchar(50),\n",
    "    SecondName varchar(50), \n",
    "    Faculty_id integer,\n",
    "    city_id integer,\n",
    "    group_id integer\n",
    "    GPA number\n",
    ");\n",
    "\n",
    "drop table if exists Faculties;\n",
    "CREATE TABLE Faculties\n",
    "(\n",
    "id integer primary key,\n",
    "name varchar(50)\n",
    ");\n",
    "\n",
    "drop table if exists Groups; \n",
    "Create table Groups\n",
    "(\n",
    "id integer primary key,\n",
    "name varchar(50)\n",
    ");\n",
    "\n",
    "drop table if exists Cities; \n",
    "Create table Cities\n",
    "(\n",
    "id integer primary key,\n",
    "name varchar(50)\n",
    ");\n",
    "\n"
   ]
  },
  {
   "cell_type": "markdown",
   "metadata": {},
   "source": [
    "## Задание 1 \n",
    "Перепишите создание таблиц с учетом наличия внешних ключей"
   ]
  },
  {
   "cell_type": "code",
   "execution_count": 5,
   "metadata": {},
   "outputs": [
    {
     "name": "stdout",
     "output_type": "stream",
     "text": [
      "Done.\n",
      "Done.\n",
      "Done.\n",
      "Done.\n",
      "Done.\n",
      "Done.\n",
      "Done.\n",
      "Done.\n"
     ]
    },
    {
     "data": {
      "text/plain": [
       "[]"
      ]
     },
     "execution_count": 5,
     "metadata": {},
     "output_type": "execute_result"
    }
   ],
   "source": [
    "%%sql\n",
    "drop table if exists Students;\n",
    "drop table if exists Faculties;\n",
    "drop table if exists Groups;\n",
    "drop table if exists Cities;\n",
    "\n",
    "CREATE TABLE Faculties (\n",
    "    id INT AUTO_INCREMENT PRIMARY KEY,\n",
    "    name VARCHAR(50)\n",
    ");\n",
    "\n",
    "\n",
    "CREATE TABLE Groups (\n",
    "    id INT AUTO_INCREMENT PRIMARY KEY,\n",
    "    name VARCHAR(50)\n",
    ");\n",
    "\n",
    "CREATE TABLE Cities (\n",
    "    id INT AUTO_INCREMENT PRIMARY KEY,\n",
    "    name VARCHAR(50)\n",
    ");\n",
    "\n",
    "CREATE TABLE Students (\n",
    "    student_id integer,\n",
    "    Name varchar(50),\n",
    "    SecondName varchar(50), \n",
    "    Faculty_id integer,\n",
    "    city_id integer,\n",
    "    group_id integer,\n",
    "    GPA number,\n",
    "    FOREIGN KEY (Faculty_id) REFERENCES Faculties(id),\n",
    "    FOREIGN KEY (city_id) REFERENCES Cities(id),\n",
    "    FOREIGN KEY (group_id) REFERENCES Groups(id)\n",
    ");\n",
    "\n",
    "\n",
    "\n",
    "\n",
    "\n"
   ]
  },
  {
   "cell_type": "markdown",
   "metadata": {},
   "source": [
    "## Задание 2\n",
    "Осуществить вставку во все таблицы с учетом правил на внешние ключи"
   ]
  },
  {
   "cell_type": "code",
   "execution_count": 6,
   "metadata": {},
   "outputs": [
    {
     "name": "stdout",
     "output_type": "stream",
     "text": [
      "Done.\n"
     ]
    },
    {
     "data": {
      "text/plain": [
       "[]"
      ]
     },
     "execution_count": 6,
     "metadata": {},
     "output_type": "execute_result"
    }
   ],
   "source": [
    "%%sql\n",
    "PRAGMA foreign_keys = ON;"
   ]
  },
  {
   "cell_type": "code",
   "execution_count": 7,
   "metadata": {},
   "outputs": [
    {
     "name": "stdout",
     "output_type": "stream",
     "text": [
      "2 rows affected.\n",
      "2 rows affected.\n",
      "2 rows affected.\n",
      "4 rows affected.\n"
     ]
    },
    {
     "data": {
      "text/plain": [
       "[]"
      ]
     },
     "execution_count": 7,
     "metadata": {},
     "output_type": "execute_result"
    }
   ],
   "source": [
    "%%sql \n",
    "INSERT INTO 'Faculties' ('id', 'name') VALUES\n",
    "(1, 'KIB'),\n",
    "(2, 'IT');\n",
    "\n",
    "INSERT INTO 'Groups' ('id', 'name') VALUES\n",
    "(1, '101'),\n",
    "(2, '103');\n",
    "\n",
    "INSERT INTO 'Cities' ('id', 'name') VALUES\n",
    "(1, 'Moscow'),\n",
    "(2, 'Voroneshz');\n",
    "\n",
    "INSERT INTO 'Students' ('student_id', 'Name', 'SecondName', 'Faculty_id', 'city_id', 'group_id', 'GPA') VALUES\n",
    "(1, 'Adam', 'Volkov', 1, 1, 1, 4.5),\n",
    "(2, 'Andy', 'Lazukov', 1, 1, 1, 4.8),\n",
    "(3, 'Joe', 'Kazello', 2, 2, 2, 3.6),\n",
    "(4, 'Sandy', 'Mayer', 2, 1, 2, 4.2);\n",
    "\n",
    "\n"
   ]
  },
  {
   "cell_type": "markdown",
   "metadata": {},
   "source": [
    "## Задание 3\n",
    "Вывести Имя Студента, Название его факультета, группы и города проживания"
   ]
  },
  {
   "cell_type": "code",
   "execution_count": 7,
   "metadata": {},
   "outputs": [
    {
     "name": "stdout",
     "output_type": "stream",
     "text": [
      "Done.\n"
     ]
    },
    {
     "data": {
      "text/html": [
       "<table>\n",
       "    <tr>\n",
       "        <th>Name</th>\n",
       "        <th>Faculty</th>\n",
       "        <th>Group1</th>\n",
       "        <th>City</th>\n",
       "    </tr>\n",
       "    <tr>\n",
       "        <td>Adam</td>\n",
       "        <td>KIB</td>\n",
       "        <td>101</td>\n",
       "        <td>Moscow</td>\n",
       "    </tr>\n",
       "    <tr>\n",
       "        <td>Andy</td>\n",
       "        <td>KIB</td>\n",
       "        <td>101</td>\n",
       "        <td>Moscow</td>\n",
       "    </tr>\n",
       "    <tr>\n",
       "        <td>Joe</td>\n",
       "        <td>IT</td>\n",
       "        <td>103</td>\n",
       "        <td>Voroneshz</td>\n",
       "    </tr>\n",
       "    <tr>\n",
       "        <td>Sandy</td>\n",
       "        <td>IT</td>\n",
       "        <td>103</td>\n",
       "        <td>Moscow</td>\n",
       "    </tr>\n",
       "</table>"
      ],
      "text/plain": [
       "[('Adam', 'KIB', '101', 'Moscow'),\n",
       " ('Andy', 'KIB', '101', 'Moscow'),\n",
       " ('Joe', 'IT', '103', 'Voroneshz'),\n",
       " ('Sandy', 'IT', '103', 'Moscow')]"
      ]
     },
     "execution_count": 7,
     "metadata": {},
     "output_type": "execute_result"
    }
   ],
   "source": [
    "%%sql\n",
    "select s.Name as Name, f.name as Faculty, g.name as Group1, c.name as City\n",
    "from Students s, Faculties f, Groups g, Cities c\n",
    "where s.Faculty_id = f.id\n",
    "and s.city_id = c.id\n",
    "and s.group_id = g.id;\n",
    "\n"
   ]
  },
  {
   "cell_type": "markdown",
   "metadata": {},
   "source": [
    "## Задание 4\n",
    "Вывести имена всех студентов, обучающихся на факультет IT из Воронежа."
   ]
  },
  {
   "cell_type": "code",
   "execution_count": 8,
   "metadata": {},
   "outputs": [
    {
     "name": "stdout",
     "output_type": "stream",
     "text": [
      "Done.\n"
     ]
    },
    {
     "data": {
      "text/html": [
       "<table>\n",
       "    <tr>\n",
       "        <th>Name</th>\n",
       "    </tr>\n",
       "    <tr>\n",
       "        <td>Joe</td>\n",
       "    </tr>\n",
       "</table>"
      ],
      "text/plain": [
       "[('Joe',)]"
      ]
     },
     "execution_count": 8,
     "metadata": {},
     "output_type": "execute_result"
    }
   ],
   "source": [
    "%%sql\n",
    "select distinct s.Name as Name\n",
    "from Students s\n",
    "inner join Faculties f\n",
    "on s.faculty_id = f.id\n",
    "inner join Cities c\n",
    "on s.city_id = c.id\n",
    "where (c.name = 'Voroneshz') and (f.name = 'IT');"
   ]
  },
  {
   "cell_type": "markdown",
   "metadata": {},
   "source": [
    "## Задание 5\n",
    "Для всевозможных пар (Факультет, Город) вывести количество студентов, соответствующее данной группе"
   ]
  },
  {
   "cell_type": "code",
   "execution_count": 9,
   "metadata": {},
   "outputs": [
    {
     "name": "stdout",
     "output_type": "stream",
     "text": [
      "Done.\n"
     ]
    },
    {
     "data": {
      "text/html": [
       "<table>\n",
       "    <tr>\n",
       "        <th>Faculty</th>\n",
       "        <th>City</th>\n",
       "        <th>Amount of students</th>\n",
       "    </tr>\n",
       "    <tr>\n",
       "        <td>IT</td>\n",
       "        <td>Moscow</td>\n",
       "        <td>1</td>\n",
       "    </tr>\n",
       "    <tr>\n",
       "        <td>IT</td>\n",
       "        <td>Voroneshz</td>\n",
       "        <td>1</td>\n",
       "    </tr>\n",
       "    <tr>\n",
       "        <td>KIB</td>\n",
       "        <td>Moscow</td>\n",
       "        <td>2</td>\n",
       "    </tr>\n",
       "    <tr>\n",
       "        <td>KIB</td>\n",
       "        <td>Voroneshz</td>\n",
       "        <td>0</td>\n",
       "    </tr>\n",
       "</table>"
      ],
      "text/plain": [
       "[('IT', 'Moscow', 1),\n",
       " ('IT', 'Voroneshz', 1),\n",
       " ('KIB', 'Moscow', 2),\n",
       " ('KIB', 'Voroneshz', 0)]"
      ]
     },
     "execution_count": 9,
     "metadata": {},
     "output_type": "execute_result"
    }
   ],
   "source": [
    "%%sql \n",
    "SELECT Faculties.name AS 'Faculty', Cities.name AS 'City', COUNT(Students.name) AS 'Amount of students' \n",
    "FROM Faculties, Cities \n",
    "LEFT JOIN Students \n",
    "ON Faculties.id = Students.faculty_id AND Cities.id = Students.city_id\n",
    "GROUP BY Faculties.name, Cities.name;"
   ]
  },
  {
   "cell_type": "markdown",
   "metadata": {},
   "source": [
    "## Задание 6 \n",
    "Для всех групп вывести средний балл по группе для студентов, не проживающих в Москве, при условии, что количество таких студентов не менее 3 "
   ]
  },
  {
   "cell_type": "code",
   "execution_count": 10,
   "metadata": {},
   "outputs": [
    {
     "name": "stdout",
     "output_type": "stream",
     "text": [
      "Done.\n"
     ]
    },
    {
     "data": {
      "text/html": [
       "<table>\n",
       "    <tr>\n",
       "        <th>Group</th>\n",
       "        <th>Mean GPA</th>\n",
       "    </tr>\n",
       "</table>"
      ],
      "text/plain": [
       "[]"
      ]
     },
     "execution_count": 10,
     "metadata": {},
     "output_type": "execute_result"
    }
   ],
   "source": [
    "%%sql \n",
    "SELECT Groups.name AS 'Group', AVG(Students.gpa) AS 'Mean GPA' \n",
    "FROM Groups \n",
    "INNER JOIN Students \n",
    "ON Students.group_id = Groups.id \n",
    "INNER JOIN Cities \n",
    "ON Students.city_id = Cities.id\n",
    "WHERE Students.city_id <> (SELECT id FROM Cities WHERE name = 'Moscow') \n",
    "GROUP BY Groups.name \n",
    "HAVING COUNT(Students.student_id) >= 3;"
   ]
  },
  {
   "cell_type": "code",
   "execution_count": 6,
   "metadata": {},
   "outputs": [
    {
     "name": "stdout",
     "output_type": "stream",
     "text": [
      "Done.\n"
     ]
    },
    {
     "data": {
      "text/html": [
       "<table>\n",
       "    <tr>\n",
       "        <th>Name</th>\n",
       "    </tr>\n",
       "    <tr>\n",
       "        <td>Joe</td>\n",
       "    </tr>\n",
       "</table>"
      ],
      "text/plain": [
       "[('Joe',)]"
      ]
     },
     "execution_count": 6,
     "metadata": {},
     "output_type": "execute_result"
    }
   ],
   "source": []
  },
  {
   "cell_type": "code",
   "execution_count": null,
   "metadata": {
    "collapsed": true
   },
   "outputs": [],
   "source": []
  },
  {
   "cell_type": "code",
   "execution_count": null,
   "metadata": {
    "collapsed": true
   },
   "outputs": [],
   "source": []
  }
 ],
 "metadata": {
  "kernelspec": {
   "display_name": "Python 3",
   "language": "python",
   "name": "python3"
  },
  "language_info": {
   "codemirror_mode": {
    "name": "ipython",
    "version": 3
   },
   "file_extension": ".py",
   "mimetype": "text/x-python",
   "name": "python",
   "nbconvert_exporter": "python",
   "pygments_lexer": "ipython3",
   "version": "3.6.2"
  }
 },
 "nbformat": 4,
 "nbformat_minor": 2
}
