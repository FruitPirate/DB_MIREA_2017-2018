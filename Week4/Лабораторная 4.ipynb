{
 "cells": [
  {
   "cell_type": "markdown",
   "metadata": {},
   "source": [
    "Данное домашнее задание посвящено схеме базе данных, связанной с футбольным командами. Схема расположена в hw_diagram.jpg\n",
    "## Описание таблиц \n",
    "\n",
    "### Positions \n",
    "Позиции игроков\n",
    "id - уникальный идентификатор позиции \n",
    "Name - Название таблицы \n",
    "\n",
    "### Coaches \n",
    "Таблица тренеров \n",
    "id - уникальный идентификатор тренера\n",
    "Name - имя тренера \n",
    "\n",
    "## Teams \n",
    "Таблица команд \n",
    "id - уникальный идентификатор  команды \n",
    "Name - имя команды \n",
    "Location - расположение команды \n",
    "Coach_id - идентификатор тренера \n",
    "\n",
    "### Players \n",
    "Таблица игроков \n",
    "Id - уникальный идентификатор игрока \n",
    "Name - имя игрока \n",
    "Age - возраст игрока \n",
    "Position_id - идентификатор позиции \n",
    "Team_id - идентификатор команды \n",
    "Start_date - дата начала игры в команде \n",
    "\n",
    "### PlayersArchive \n",
    "Архив по игрокам (информация о том, в какой команде игрок играл ранее) \n",
    "player_id - идентификатор игрока \n",
    "team_id - идентификатор команды \n",
    "start_date - дата начала игры \n",
    "end_date - дата окончания игры"
   ]
  },
  {
   "cell_type": "code",
   "execution_count": 57,
   "metadata": {},
   "outputs": [
    {
     "name": "stdout",
     "output_type": "stream",
     "text": [
      "The sql extension is already loaded. To reload it, use:\n",
      "  %reload_ext sql\n"
     ]
    },
    {
     "data": {
      "text/plain": [
       "'Connected: None@chinook.db'"
      ]
     },
     "execution_count": 57,
     "metadata": {},
     "output_type": "execute_result"
    }
   ],
   "source": [
    "%load_ext sql\n",
    "%sql sqlite:///chinook.db"
   ]
  },
  {
   "cell_type": "code",
   "execution_count": 2,
   "metadata": {
    "collapsed": true
   },
   "outputs": [],
   "source": [
    "import sqlite3"
   ]
  },
  {
   "cell_type": "code",
   "execution_count": 3,
   "metadata": {
    "collapsed": true
   },
   "outputs": [],
   "source": [
    "db = sqlite3.connect('chinook.db')"
   ]
  },
  {
   "cell_type": "markdown",
   "metadata": {},
   "source": [
    "# Задание 1\n",
    "Реализовать перенакатываемые sql-скрипты по схеме hw_diagram, приложенного ниже."
   ]
  },
  {
   "cell_type": "code",
   "execution_count": 70,
   "metadata": {},
   "outputs": [
    {
     "name": "stdout",
     "output_type": "stream",
     "text": [
      "Done.\n",
      "Done.\n",
      "Done.\n",
      "Done.\n",
      "Done.\n",
      "Done.\n",
      "Done.\n",
      "Done.\n",
      "Done.\n",
      "Done.\n"
     ]
    },
    {
     "data": {
      "text/plain": [
       "[]"
      ]
     },
     "execution_count": 70,
     "metadata": {},
     "output_type": "execute_result"
    }
   ],
   "source": [
    "%%sql\n",
    "DROP TABLE if exists Players;\n",
    "DROP TABLE if exists Teams;\n",
    "DROP TABLE if exists Coaches;\n",
    "DROP TABLE if exists Positions;\n",
    "DROP TABLE if exists PlayersArchive;\n",
    "\n",
    "CREATE TABLE PlayersArchive (\n",
    "    Player_id integer,\n",
    "    Team_id integer,\n",
    "    start_date date,\n",
    "    end_date date,\n",
    "    primary key(Player_id, Team_id)\n",
    ");\n",
    "\n",
    "CREATE TABLE Positions (\n",
    "    id integer primary key,\n",
    "    Name varchar(50)\n",
    ");\n",
    "\n",
    "CREATE TABLE Coaches (\n",
    "     id integer primary key,\n",
    "     Name varchar(50)\n",
    ");\n",
    "\n",
    "CREATE TABLE Teams (\n",
    "    id integer primary key,\n",
    "    Name varchar(50),\n",
    "    Location integer,\n",
    "    Coach_id integer,\n",
    "    foreign key (Coach_id) references Coaches(id)\n",
    ");\n",
    "\n",
    "CREATE TABLE Players (\n",
    "    id integer primary key,\n",
    "    Name varchar(50),\n",
    "    Age integer,\n",
    "    Position_id integer,\n",
    "    Team_id integer,\n",
    "    Start_date date,\n",
    "    foreign key (Position_id) references Positions(id),\n",
    "    foreign key (Team_id) references Teams(id),\n",
    "    foreign key (id) references PlayersArchive(Player_id)\n",
    ");\n"
   ]
  },
  {
   "cell_type": "code",
   "execution_count": 5,
   "metadata": {},
   "outputs": [
    {
     "name": "stdout",
     "output_type": "stream",
     "text": [
      "Done.\n"
     ]
    },
    {
     "data": {
      "text/plain": [
       "[]"
      ]
     },
     "execution_count": 5,
     "metadata": {},
     "output_type": "execute_result"
    }
   ],
   "source": [
    "%%sql\n",
    "PRAGMA foreign_keys = ON;"
   ]
  },
  {
   "cell_type": "markdown",
   "metadata": {},
   "source": [
    "# Задание 2\n",
    "Написать sql-скрипт, осуществляюший добавление всех возможных позиций игроков. (В данной задаче можно ограничится четырьмя - вратарь, защитник, полузащитник, нападающий)"
   ]
  },
  {
   "cell_type": "code",
   "execution_count": 71,
   "metadata": {},
   "outputs": [
    {
     "name": "stdout",
     "output_type": "stream",
     "text": [
      "4 rows affected.\n"
     ]
    },
    {
     "data": {
      "text/plain": [
       "[]"
      ]
     },
     "execution_count": 71,
     "metadata": {},
     "output_type": "execute_result"
    }
   ],
   "source": [
    "%%sql\n",
    "INSERT INTO Positions VALUES\n",
    "(1, 'Goalkeeper'),\n",
    "(2, 'Defender'),\n",
    "(3, 'Midfielder'),\n",
    "(4, 'Forward');"
   ]
  },
  {
   "cell_type": "markdown",
   "metadata": {},
   "source": [
    "# Задание 3\n",
    "Написать функцию, осуществляющую добавление тренера. На вход функции подается имя тренера. При невозможности вставки функция должна обработать данное исключение и вывести пользователю информацию о проблеме\n",
    "\n",
    "После написания функции необходимо добавить несколько тренеров для таблицы."
   ]
  },
  {
   "cell_type": "code",
   "execution_count": 72,
   "metadata": {},
   "outputs": [],
   "source": [
    "class MyException(Exception):\n",
    "    '''Мой класс ошибок'''\n",
    "    pass\n",
    "   \n",
    "def new_coach(new_coaches):\n",
    "    cursor = db.cursor()\n",
    "    try:\n",
    "        cursor.execute( '''SELECT COALESCE(MAX(id)+1, 1) AS new_id FROM Coaches''')\n",
    "        new_id = cursor.fetchone()[0]\n",
    "        for i, coach in enumerate(new_coaches):\n",
    "            if coach.isalpha() == 0:\n",
    "                raise MyException(Exception)\n",
    "            cursor.execute('''\n",
    "            INSERT INTO Coaches(id, name) VALUES(?,?)''', (new_id + i, coach))\n",
    "        \n",
    "        db.commit()        \n",
    "    except MyException as ex:\n",
    "        print('The name contains not only letters')\n",
    "        return -2\n",
    "    except TypeError:\n",
    "        print('Error')\n",
    "        return -1"
   ]
  },
  {
   "cell_type": "code",
   "execution_count": 73,
   "metadata": {},
   "outputs": [
    {
     "name": "stdout",
     "output_type": "stream",
     "text": [
      "The name contains not only letters\n"
     ]
    },
    {
     "data": {
      "text/plain": [
       "-2"
      ]
     },
     "execution_count": 73,
     "metadata": {},
     "output_type": "execute_result"
    }
   ],
   "source": [
    "new_coach(['Slutskiy', 'Gancharenko'])\n",
    "new_coach(['Manchini'])\n",
    "new_coach(['Karera'])\n",
    "new_coach(['Cherchesov100', 'Berdiev,,', 'Kaprin'])"
   ]
  },
  {
   "cell_type": "code",
   "execution_count": 74,
   "metadata": {},
   "outputs": [
    {
     "name": "stdout",
     "output_type": "stream",
     "text": [
      "Done.\n"
     ]
    },
    {
     "data": {
      "text/html": [
       "<table>\n",
       "    <tr>\n",
       "        <th>id</th>\n",
       "        <th>Name</th>\n",
       "    </tr>\n",
       "    <tr>\n",
       "        <td>1</td>\n",
       "        <td>Slutskiy</td>\n",
       "    </tr>\n",
       "    <tr>\n",
       "        <td>2</td>\n",
       "        <td>Gancharenko</td>\n",
       "    </tr>\n",
       "    <tr>\n",
       "        <td>3</td>\n",
       "        <td>Manchini</td>\n",
       "    </tr>\n",
       "    <tr>\n",
       "        <td>4</td>\n",
       "        <td>Karera</td>\n",
       "    </tr>\n",
       "</table>"
      ],
      "text/plain": [
       "[(1, 'Slutskiy'), (2, 'Gancharenko'), (3, 'Manchini'), (4, 'Karera')]"
      ]
     },
     "execution_count": 74,
     "metadata": {},
     "output_type": "execute_result"
    }
   ],
   "source": [
    "%%sql \n",
    "SELECT *\n",
    "FROM Coaches"
   ]
  },
  {
   "cell_type": "markdown",
   "metadata": {},
   "source": [
    "# Задание 4\n",
    "\n",
    "Написать функцию, осуществляющую добавление команды. На вход функция принимает (имя команды, местоположение, имя тренера).\n",
    "На выходе должна быть добавлена команда.\n",
    "\n",
    "После написания функции необходимо добавить несколько команд"
   ]
  },
  {
   "cell_type": "code",
   "execution_count": 75,
   "metadata": {
    "collapsed": true
   },
   "outputs": [],
   "source": [
    "def find_coach(Coach):\n",
    "    cur = db.cursor()\n",
    "    cur.execute('''SELECT id FROM Coaches WHERE Name = ?''', (Coach,))\n",
    "    try:\n",
    "        coach_id = cur.fetchone()[0]\n",
    "        return coach_id\n",
    "    except TypeError:\n",
    "        print('Error')\n",
    "        return -1\n",
    "    \n",
    "def insert_team(Name, Location, Coach):\n",
    "    cur = db.cursor();\n",
    "    cur.execute('''SELECT COALESCE(MAX(id)+1, 1) FROM Teams''')\n",
    "    id = cur.fetchone()[0]  \n",
    "    Coach_id = find_coach(Coach)\n",
    "    cur.execute('''INSERT INTO Teams(id, Name, Location, Coach_id) values(?,?,?,?)''', (id, Name, Location, Coach_id))\n",
    "    db.commit()  "
   ]
  },
  {
   "cell_type": "code",
   "execution_count": 76,
   "metadata": {},
   "outputs": [
    {
     "name": "stdout",
     "output_type": "stream",
     "text": [
      "Error\n"
     ]
    }
   ],
   "source": [
    "insert_team('CSKA', 'Moscow', 'Gancharenko')\n",
    "insert_team('Zenith', 'St.Petersburg', 'Manchini')\n",
    "insert_team('Spartak','Moscow','Karera')\n",
    "insert_team('Krasnodar', 'Krasnodar', 'Shalimov')\n"
   ]
  },
  {
   "cell_type": "code",
   "execution_count": 77,
   "metadata": {},
   "outputs": [
    {
     "name": "stdout",
     "output_type": "stream",
     "text": [
      "Done.\n"
     ]
    },
    {
     "data": {
      "text/html": [
       "<table>\n",
       "    <tr>\n",
       "        <th>id</th>\n",
       "        <th>Name</th>\n",
       "        <th>Location</th>\n",
       "        <th>Coach_id</th>\n",
       "    </tr>\n",
       "    <tr>\n",
       "        <td>1</td>\n",
       "        <td>CSKA</td>\n",
       "        <td>Moscow</td>\n",
       "        <td>2</td>\n",
       "    </tr>\n",
       "    <tr>\n",
       "        <td>2</td>\n",
       "        <td>Zenith</td>\n",
       "        <td>St.Petersburg</td>\n",
       "        <td>3</td>\n",
       "    </tr>\n",
       "    <tr>\n",
       "        <td>3</td>\n",
       "        <td>Spartak</td>\n",
       "        <td>Moscow</td>\n",
       "        <td>4</td>\n",
       "    </tr>\n",
       "    <tr>\n",
       "        <td>4</td>\n",
       "        <td>Krasnodar</td>\n",
       "        <td>Krasnodar</td>\n",
       "        <td>-1</td>\n",
       "    </tr>\n",
       "</table>"
      ],
      "text/plain": [
       "[(1, 'CSKA', 'Moscow', 2),\n",
       " (2, 'Zenith', 'St.Petersburg', 3),\n",
       " (3, 'Spartak', 'Moscow', 4),\n",
       " (4, 'Krasnodar', 'Krasnodar', -1)]"
      ]
     },
     "execution_count": 77,
     "metadata": {},
     "output_type": "execute_result"
    }
   ],
   "source": [
    "%%sql\n",
    "SELECT *\n",
    "FROM Teams"
   ]
  },
  {
   "cell_type": "markdown",
   "metadata": {},
   "source": [
    "# Задание 5\n",
    "\n",
    "Написать функцию, осуществляющую обновление информации о команде. У функции на входе должен быть один обязательный параметр - название команды и два необязательных параметра - имя тренера и местоположение. При этом хотя бы один из необязательных параметров должен быть заполнен. Функция должна обновлять значение переданных необязательных параметров.\n",
    "\n",
    "После написания функции вызовите данную функцию несколько раз"
   ]
  },
  {
   "cell_type": "code",
   "execution_count": 78,
   "metadata": {
    "collapsed": true
   },
   "outputs": [],
   "source": [
    "def update_team(Name, Coach = None, Location = None):\n",
    "    cur = db.cursor()\n",
    "    if Coach == None and Location == None:\n",
    "        print('Error: There must be at least one of the optional parameters')\n",
    "        return -1\n",
    "    if Coach == None and Location:\n",
    "        cur.execute('''UPDATE Teams SET Location = ? WHERE Name = ?''',(Location, Name))\n",
    "    if Coach and Location == None:\n",
    "        coach_id = find_coach(Coach)\n",
    "        cur.execute('''UPDATE Teams SET Coach_id = ? WHERE Name = ?''',(coach_id, Name))\n",
    "    if Coach and Location:\n",
    "        coach_id = find_coach(Coach)\n",
    "        cur.execute('''UPDATE Teams SET Location = ? WHERE Name = ?''',(Location, Name))\n",
    "        cur.execute('''UPDATE Teams SET Coach_id = ? WHERE Name = ?''',(coach_id, Name))\n",
    "    db.commit()        \n",
    "        "
   ]
  },
  {
   "cell_type": "code",
   "execution_count": 79,
   "metadata": {},
   "outputs": [
    {
     "name": "stdout",
     "output_type": "stream",
     "text": [
      "Error: There must be at least one of the optional parameters\n"
     ]
    },
    {
     "data": {
      "text/plain": [
       "-1"
      ]
     },
     "execution_count": 79,
     "metadata": {},
     "output_type": "execute_result"
    }
   ],
   "source": [
    "update_team('Krasnodar')"
   ]
  },
  {
   "cell_type": "code",
   "execution_count": 80,
   "metadata": {
    "collapsed": true
   },
   "outputs": [],
   "source": [
    "update_team('CSKA', Coach = 'Slutskiy')"
   ]
  },
  {
   "cell_type": "code",
   "execution_count": 81,
   "metadata": {
    "collapsed": true
   },
   "outputs": [],
   "source": [
    "update_team('Spartak', Location = 'Ufa')"
   ]
  },
  {
   "cell_type": "code",
   "execution_count": 82,
   "metadata": {
    "collapsed": true
   },
   "outputs": [],
   "source": [
    "update_team('Zenith', Coach = 'Gancharenko', Location = 'Vladivostok')\n"
   ]
  },
  {
   "cell_type": "code",
   "execution_count": 83,
   "metadata": {},
   "outputs": [
    {
     "name": "stdout",
     "output_type": "stream",
     "text": [
      "Done.\n"
     ]
    },
    {
     "data": {
      "text/html": [
       "<table>\n",
       "    <tr>\n",
       "        <th>id</th>\n",
       "        <th>Name</th>\n",
       "        <th>Location</th>\n",
       "        <th>Coach_id</th>\n",
       "    </tr>\n",
       "    <tr>\n",
       "        <td>1</td>\n",
       "        <td>CSKA</td>\n",
       "        <td>Moscow</td>\n",
       "        <td>1</td>\n",
       "    </tr>\n",
       "    <tr>\n",
       "        <td>2</td>\n",
       "        <td>Zenith</td>\n",
       "        <td>Vladivostok</td>\n",
       "        <td>2</td>\n",
       "    </tr>\n",
       "    <tr>\n",
       "        <td>3</td>\n",
       "        <td>Spartak</td>\n",
       "        <td>Ufa</td>\n",
       "        <td>4</td>\n",
       "    </tr>\n",
       "    <tr>\n",
       "        <td>4</td>\n",
       "        <td>Krasnodar</td>\n",
       "        <td>Krasnodar</td>\n",
       "        <td>-1</td>\n",
       "    </tr>\n",
       "</table>"
      ],
      "text/plain": [
       "[(1, 'CSKA', 'Moscow', 1),\n",
       " (2, 'Zenith', 'Vladivostok', 2),\n",
       " (3, 'Spartak', 'Ufa', 4),\n",
       " (4, 'Krasnodar', 'Krasnodar', -1)]"
      ]
     },
     "execution_count": 83,
     "metadata": {},
     "output_type": "execute_result"
    }
   ],
   "source": [
    "%sql SELECT * FROM Teams"
   ]
  },
  {
   "cell_type": "markdown",
   "metadata": {},
   "source": [
    "# Задание 6\n",
    "\n",
    "Написать функцию, осуществляющую добавление нового футболиста в таблицу игроков. На входе (имя, возраст, название позиции, название команды, дата перехода в команду(необязательный параметр)). Если дата перехода не указана, то нужно использовать текущую дату. Предусмотреть различные ошибки (такие как неверное имя позиции, неверное название команды, возраст < 10 и > 50 и т.п.)\n",
    "\n",
    "После написания функции необходимо добавить несколько игроков."
   ]
  },
  {
   "cell_type": "code",
   "execution_count": 86,
   "metadata": {
    "collapsed": true
   },
   "outputs": [],
   "source": [
    "def new_player(Name, Age, Position, Team, Date = None):\n",
    "    cur = db.cursor()\n",
    "    cur.execute('''SELECT COALESCE(MAX(id) + 1, 1) FROM Players''')\n",
    "    try:\n",
    "        id = cur.fetchone()[0]\n",
    "        cur.execute('''SELECT id FROM Positions WHERE Name = ?''',(Position,))\n",
    "        position_id = cur.fetchone()[0]\n",
    "        cur.execute('''SELECT id FROM Teams WHERE Name = ?''',(Team,))\n",
    "        team_id = cur.fetchone()[0]\n",
    "        cur.execute('''SELECT id FROM Positions ''');\n",
    "        pos = cur.fetchall()\n",
    "        cur.execute('''SELECT id FROM Teams ''');\n",
    "        tms = cur.fetchall()\n",
    "        if Date == None:\n",
    "            cur.execute('''SELECT date(current_date)''')\n",
    "            Date = cur.fetchone()[0]\n",
    "          \n",
    "        if ((position_id,) in pos and (Age < 50 and Age > 10) and (team_id,) in tms):\n",
    "            cur.execute('''INSERT INTO Players (id, Name, Age, Position_id, Team_id, Start_date) values(?,?,?,?,?,?)''',\n",
    "                        (id, Name, Age, position_id, team_id, Date))\n",
    "        else:\n",
    "            print('Error')\n",
    "        db.commit()\n",
    "    except TypeError: \n",
    "        print('Error-')"
   ]
  },
  {
   "cell_type": "code",
   "execution_count": 87,
   "metadata": {},
   "outputs": [],
   "source": [
    "new_player('Golovin', 21, 'Midfielder', 'CSKA')\n",
    "new_player('Glushakov', 31, 'Midfielder', 'Spartak', '2012-04-16')"
   ]
  },
  {
   "cell_type": "code",
   "execution_count": 88,
   "metadata": {},
   "outputs": [
    {
     "name": "stdout",
     "output_type": "stream",
     "text": [
      "Done.\n"
     ]
    },
    {
     "data": {
      "text/html": [
       "<table>\n",
       "    <tr>\n",
       "        <th>id</th>\n",
       "        <th>Name</th>\n",
       "        <th>Age</th>\n",
       "        <th>Position_id</th>\n",
       "        <th>Team_id</th>\n",
       "        <th>Start_date</th>\n",
       "    </tr>\n",
       "    <tr>\n",
       "        <td>1</td>\n",
       "        <td>Golovin</td>\n",
       "        <td>21</td>\n",
       "        <td>3</td>\n",
       "        <td>1</td>\n",
       "        <td>2018-04-13</td>\n",
       "    </tr>\n",
       "    <tr>\n",
       "        <td>2</td>\n",
       "        <td>Glushakov</td>\n",
       "        <td>31</td>\n",
       "        <td>3</td>\n",
       "        <td>3</td>\n",
       "        <td>2012-04-16</td>\n",
       "    </tr>\n",
       "</table>"
      ],
      "text/plain": [
       "[(1, 'Golovin', 21, 3, 1, '2018-04-13'),\n",
       " (2, 'Glushakov', 31, 3, 3, '2012-04-16')]"
      ]
     },
     "execution_count": 88,
     "metadata": {},
     "output_type": "execute_result"
    }
   ],
   "source": [
    "%sql SELECT * from Players"
   ]
  },
  {
   "cell_type": "markdown",
   "metadata": {},
   "source": [
    "# Задание 7\n",
    "Написать функцию для перевода игрока в другую команду. Данная функция должна осуществить архивирование текущей записи в таблице игроков в таблицу players_archive с заполнение end_date - датой начала игры за новую команду - 1 день. А также осуществлять изменение поля в таблице Players. При возникновении ошибки должен осуществляться полный откат транзакции."
   ]
  },
  {
   "cell_type": "code",
   "execution_count": 89,
   "metadata": {
    "collapsed": true
   },
   "outputs": [],
   "source": [
    "def update_player(Name, new_team, Date): \n",
    "    cur = db.cursor() \n",
    "    cur.execute('''SELECT COALESCE(MAX(Player_id)+1, 1) FROM PlayersArchive''')\n",
    "    pl_id = cur.fetchone()[0]\n",
    "    cur.execute( '''SELECT Date(?, '-1 day')''',(Date,)) \n",
    "    d = cur.fetchone()[0] \n",
    "    try: \n",
    "        cur.execute( '''SELECT Start_date FROM Players WHERE Name = ?''',(Name,))\n",
    "        old_d = cur.fetchone()[0]\n",
    "        cur.execute( '''SELECT team_id FROM Players WHERE Name = ?''',(Name,)) \n",
    "        t = cur.fetchone()[0] \n",
    "        cur.execute('''INSERT INTO PlayersArchive(Player_id, Team_id, start_date, end_date) VALUES(?,?,?,?)''', (pl_id, t, old_d, d)) \n",
    "        cur.execute( '''SELECT id FROM teams WHERE Name = ?''',(new_team,)) \n",
    "        t_id = cur.fetchone()[0] \n",
    "        cur.execute( '''SELECT id FROM Players WHERE Name = ?''',(Name,)) \n",
    "        id = cur.fetchone()[0] \n",
    "        cur.execute ('''UPDATE Players set team_id = ?, start_date= ? WHERE Name = ?''', (t_id, Date, Name)) \n",
    "        db.commit() \n",
    "    except TypeError: \n",
    "        print('ERROR') \n",
    "        db.rollback()"
   ]
  },
  {
   "cell_type": "code",
   "execution_count": 90,
   "metadata": {},
   "outputs": [
    {
     "name": "stdout",
     "output_type": "stream",
     "text": [
      "Done.\n"
     ]
    },
    {
     "data": {
      "text/html": [
       "<table>\n",
       "    <tr>\n",
       "        <th>id</th>\n",
       "        <th>Name</th>\n",
       "        <th>Age</th>\n",
       "        <th>Position_id</th>\n",
       "        <th>Team_id</th>\n",
       "        <th>Start_date</th>\n",
       "    </tr>\n",
       "    <tr>\n",
       "        <td>1</td>\n",
       "        <td>Golovin</td>\n",
       "        <td>21</td>\n",
       "        <td>3</td>\n",
       "        <td>1</td>\n",
       "        <td>2018-04-13</td>\n",
       "    </tr>\n",
       "    <tr>\n",
       "        <td>2</td>\n",
       "        <td>Glushakov</td>\n",
       "        <td>31</td>\n",
       "        <td>3</td>\n",
       "        <td>3</td>\n",
       "        <td>2012-04-16</td>\n",
       "    </tr>\n",
       "</table>"
      ],
      "text/plain": [
       "[(1, 'Golovin', 21, 3, 1, '2018-04-13'),\n",
       " (2, 'Glushakov', 31, 3, 3, '2012-04-16')]"
      ]
     },
     "execution_count": 90,
     "metadata": {},
     "output_type": "execute_result"
    }
   ],
   "source": [
    "%sql SELECT * FROM Players"
   ]
  },
  {
   "cell_type": "code",
   "execution_count": 91,
   "metadata": {
    "collapsed": true
   },
   "outputs": [],
   "source": [
    "update_player('Golovin', 'Zenith', '2018-05-12')"
   ]
  },
  {
   "cell_type": "code",
   "execution_count": 92,
   "metadata": {},
   "outputs": [
    {
     "name": "stdout",
     "output_type": "stream",
     "text": [
      "Done.\n"
     ]
    },
    {
     "data": {
      "text/html": [
       "<table>\n",
       "    <tr>\n",
       "        <th>Player_id</th>\n",
       "        <th>Team_id</th>\n",
       "        <th>start_date</th>\n",
       "        <th>end_date</th>\n",
       "    </tr>\n",
       "    <tr>\n",
       "        <td>1</td>\n",
       "        <td>1</td>\n",
       "        <td>2018-04-13</td>\n",
       "        <td>2018-05-11</td>\n",
       "    </tr>\n",
       "</table>"
      ],
      "text/plain": [
       "[(1, 1, '2018-04-13', '2018-05-11')]"
      ]
     },
     "execution_count": 92,
     "metadata": {},
     "output_type": "execute_result"
    }
   ],
   "source": [
    "%sql SELECT * FROM PlayersArchive"
   ]
  },
  {
   "cell_type": "code",
   "execution_count": null,
   "metadata": {
    "collapsed": true
   },
   "outputs": [],
   "source": []
  }
 ],
 "metadata": {
  "kernelspec": {
   "display_name": "Python 3",
   "language": "python",
   "name": "python3"
  },
  "language_info": {
   "codemirror_mode": {
    "name": "ipython",
    "version": 3
   },
   "file_extension": ".py",
   "mimetype": "text/x-python",
   "name": "python",
   "nbconvert_exporter": "python",
   "pygments_lexer": "ipython3",
   "version": "3.6.8"
  }
 },
 "nbformat": 4,
 "nbformat_minor": 2
}
